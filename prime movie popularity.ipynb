{
 "cells": [
  {
   "cell_type": "code",
   "execution_count": 3,
   "metadata": {},
   "outputs": [],
   "source": [
    "# import packages\n",
    "import numpy as np\n",
    "import pandas as pd\n",
    "import sklearn as sl\n",
    "import seaborn as sns\n",
    "import matplotlib.pyplot as plt\n",
    "pd.set_option(\"display.float_format\", lambda x: \"%.3f\" % x) # specify the float to three point"
   ]
  },
  {
   "cell_type": "code",
   "execution_count": 4,
   "metadata": {},
   "outputs": [
    {
     "data": {
      "text/html": [
       "<div>\n",
       "<style scoped>\n",
       "    .dataframe tbody tr th:only-of-type {\n",
       "        vertical-align: middle;\n",
       "    }\n",
       "\n",
       "    .dataframe tbody tr th {\n",
       "        vertical-align: top;\n",
       "    }\n",
       "\n",
       "    .dataframe thead th {\n",
       "        text-align: right;\n",
       "    }\n",
       "</style>\n",
       "<table border=\"1\" class=\"dataframe\">\n",
       "  <thead>\n",
       "    <tr style=\"text-align: right;\">\n",
       "      <th></th>\n",
       "      <th>video_id</th>\n",
       "      <th>cvt_per_day</th>\n",
       "      <th>weighted_categorical_position</th>\n",
       "      <th>weighted_horizontal_poition</th>\n",
       "      <th>import_id</th>\n",
       "      <th>release_year</th>\n",
       "      <th>genres</th>\n",
       "      <th>imdb_votes</th>\n",
       "      <th>budget</th>\n",
       "      <th>boxoffice</th>\n",
       "      <th>imdb_rating</th>\n",
       "      <th>duration_in_mins</th>\n",
       "      <th>metacritic_score</th>\n",
       "      <th>awards</th>\n",
       "      <th>mpaa</th>\n",
       "      <th>star_category</th>\n",
       "    </tr>\n",
       "  </thead>\n",
       "  <tbody>\n",
       "    <tr>\n",
       "      <th>0</th>\n",
       "      <td>385504</td>\n",
       "      <td>307127.606</td>\n",
       "      <td>1</td>\n",
       "      <td>3</td>\n",
       "      <td>lionsgate</td>\n",
       "      <td>2013</td>\n",
       "      <td>Action,Thriller,Drama</td>\n",
       "      <td>69614</td>\n",
       "      <td>15000000</td>\n",
       "      <td>42930462</td>\n",
       "      <td>6.500</td>\n",
       "      <td>112.301</td>\n",
       "      <td>51</td>\n",
       "      <td>other award</td>\n",
       "      <td>PG-13</td>\n",
       "      <td>1.710</td>\n",
       "    </tr>\n",
       "    <tr>\n",
       "      <th>1</th>\n",
       "      <td>300175</td>\n",
       "      <td>270338.426</td>\n",
       "      <td>1</td>\n",
       "      <td>3</td>\n",
       "      <td>lionsgate</td>\n",
       "      <td>2013</td>\n",
       "      <td>Comedy,Crime,Thriller</td>\n",
       "      <td>46705</td>\n",
       "      <td>15000000</td>\n",
       "      <td>3301046</td>\n",
       "      <td>6.500</td>\n",
       "      <td>94.983</td>\n",
       "      <td>41</td>\n",
       "      <td>no award</td>\n",
       "      <td>R</td>\n",
       "      <td>3.250</td>\n",
       "    </tr>\n",
       "    <tr>\n",
       "      <th>2</th>\n",
       "      <td>361899</td>\n",
       "      <td>256165.867</td>\n",
       "      <td>1</td>\n",
       "      <td>3</td>\n",
       "      <td>other</td>\n",
       "      <td>2012</td>\n",
       "      <td>Crime,Drama</td>\n",
       "      <td>197596</td>\n",
       "      <td>26000000</td>\n",
       "      <td>37397291</td>\n",
       "      <td>7.300</td>\n",
       "      <td>115.764</td>\n",
       "      <td>58</td>\n",
       "      <td>other award</td>\n",
       "      <td>R</td>\n",
       "      <td>2.647</td>\n",
       "    </tr>\n",
       "    <tr>\n",
       "      <th>3</th>\n",
       "      <td>308314</td>\n",
       "      <td>196622.721</td>\n",
       "      <td>3</td>\n",
       "      <td>4</td>\n",
       "      <td>lionsgate</td>\n",
       "      <td>2008</td>\n",
       "      <td>Thriller,Drama,War,Documentary,Mystery,Action</td>\n",
       "      <td>356339</td>\n",
       "      <td>15000000</td>\n",
       "      <td>15700000</td>\n",
       "      <td>7.600</td>\n",
       "      <td>130.704</td>\n",
       "      <td>94</td>\n",
       "      <td>Oscar</td>\n",
       "      <td>R</td>\n",
       "      <td>1.667</td>\n",
       "    </tr>\n",
       "    <tr>\n",
       "      <th>4</th>\n",
       "      <td>307201</td>\n",
       "      <td>159841.652</td>\n",
       "      <td>1</td>\n",
       "      <td>3</td>\n",
       "      <td>lionsgate</td>\n",
       "      <td>2013</td>\n",
       "      <td>Crime,Thriller,Mystery,Documentary</td>\n",
       "      <td>46720</td>\n",
       "      <td>27220000</td>\n",
       "      <td>8551228</td>\n",
       "      <td>6.400</td>\n",
       "      <td>105.546</td>\n",
       "      <td>37</td>\n",
       "      <td>other award</td>\n",
       "      <td>R</td>\n",
       "      <td>3.067</td>\n",
       "    </tr>\n",
       "  </tbody>\n",
       "</table>\n",
       "</div>"
      ],
      "text/plain": [
       "   video_id  cvt_per_day  weighted_categorical_position  \\\n",
       "0    385504   307127.606                              1   \n",
       "1    300175   270338.426                              1   \n",
       "2    361899   256165.867                              1   \n",
       "3    308314   196622.721                              3   \n",
       "4    307201   159841.652                              1   \n",
       "\n",
       "   weighted_horizontal_poition  import_id  release_year  \\\n",
       "0                            3  lionsgate          2013   \n",
       "1                            3  lionsgate          2013   \n",
       "2                            3      other          2012   \n",
       "3                            4  lionsgate          2008   \n",
       "4                            3  lionsgate          2013   \n",
       "\n",
       "                                          genres  imdb_votes    budget  \\\n",
       "0                          Action,Thriller,Drama       69614  15000000   \n",
       "1                          Comedy,Crime,Thriller       46705  15000000   \n",
       "2                                    Crime,Drama      197596  26000000   \n",
       "3  Thriller,Drama,War,Documentary,Mystery,Action      356339  15000000   \n",
       "4             Crime,Thriller,Mystery,Documentary       46720  27220000   \n",
       "\n",
       "   boxoffice  imdb_rating  duration_in_mins  metacritic_score       awards  \\\n",
       "0   42930462        6.500           112.301                51  other award   \n",
       "1    3301046        6.500            94.983                41     no award   \n",
       "2   37397291        7.300           115.764                58  other award   \n",
       "3   15700000        7.600           130.704                94        Oscar   \n",
       "4    8551228        6.400           105.546                37  other award   \n",
       "\n",
       "    mpaa  star_category  \n",
       "0  PG-13          1.710  \n",
       "1      R          3.250  \n",
       "2      R          2.647  \n",
       "3      R          1.667  \n",
       "4      R          3.067  "
      ]
     },
     "execution_count": 4,
     "metadata": {},
     "output_type": "execute_result"
    }
   ],
   "source": [
    "# load data\n",
    "TV = pd.read_table(\"/Users/gege/Downloads/TVdata.txt\", sep = \",\", lineterminator = \"\\n\")\n",
    "TV.head()"
   ]
  },
  {
   "cell_type": "markdown",
   "metadata": {},
   "source": [
    "# explore the data"
   ]
  },
  {
   "cell_type": "code",
   "execution_count": 5,
   "metadata": {},
   "outputs": [
    {
     "name": "stdout",
     "output_type": "stream",
     "text": [
      "(4226, 16)\n"
     ]
    }
   ],
   "source": [
    "print(TV.shape)"
   ]
  },
  {
   "cell_type": "code",
   "execution_count": 6,
   "metadata": {},
   "outputs": [
    {
     "name": "stdout",
     "output_type": "stream",
     "text": [
      "<class 'pandas.core.frame.DataFrame'>\n",
      "RangeIndex: 4226 entries, 0 to 4225\n",
      "Data columns (total 16 columns):\n",
      "video_id                         4226 non-null int64\n",
      "cvt_per_day                      4226 non-null float64\n",
      "weighted_categorical_position    4226 non-null int64\n",
      "weighted_horizontal_poition      4226 non-null int64\n",
      "import_id                        4226 non-null object\n",
      "release_year                     4226 non-null int64\n",
      "genres                           4226 non-null object\n",
      "imdb_votes                       4226 non-null int64\n",
      "budget                           4226 non-null int64\n",
      "boxoffice                        4226 non-null int64\n",
      "imdb_rating                      4226 non-null float64\n",
      "duration_in_mins                 4226 non-null float64\n",
      "metacritic_score                 4226 non-null int64\n",
      "awards                           4226 non-null object\n",
      "mpaa                             4226 non-null object\n",
      "star_category                    4226 non-null float64\n",
      "dtypes: float64(4), int64(8), object(4)\n",
      "memory usage: 528.3+ KB\n"
     ]
    }
   ],
   "source": [
    "TV.info()"
   ]
  },
  {
   "cell_type": "markdown",
   "metadata": {},
   "source": [
    " There is no null in the data"
   ]
  },
  {
   "cell_type": "code",
   "execution_count": 7,
   "metadata": {},
   "outputs": [
    {
     "data": {
      "text/html": [
       "<div>\n",
       "<style scoped>\n",
       "    .dataframe tbody tr th:only-of-type {\n",
       "        vertical-align: middle;\n",
       "    }\n",
       "\n",
       "    .dataframe tbody tr th {\n",
       "        vertical-align: top;\n",
       "    }\n",
       "\n",
       "    .dataframe thead th {\n",
       "        text-align: right;\n",
       "    }\n",
       "</style>\n",
       "<table border=\"1\" class=\"dataframe\">\n",
       "  <thead>\n",
       "    <tr style=\"text-align: right;\">\n",
       "      <th></th>\n",
       "      <th>video_id</th>\n",
       "      <th>cvt_per_day</th>\n",
       "      <th>weighted_categorical_position</th>\n",
       "      <th>weighted_horizontal_poition</th>\n",
       "      <th>release_year</th>\n",
       "      <th>imdb_votes</th>\n",
       "      <th>budget</th>\n",
       "      <th>boxoffice</th>\n",
       "      <th>imdb_rating</th>\n",
       "      <th>duration_in_mins</th>\n",
       "      <th>metacritic_score</th>\n",
       "      <th>star_category</th>\n",
       "    </tr>\n",
       "  </thead>\n",
       "  <tbody>\n",
       "    <tr>\n",
       "      <th>count</th>\n",
       "      <td>4226.000</td>\n",
       "      <td>4226.000</td>\n",
       "      <td>4226.000</td>\n",
       "      <td>4226.000</td>\n",
       "      <td>4226.000</td>\n",
       "      <td>4226.000</td>\n",
       "      <td>4226.000</td>\n",
       "      <td>4226.000</td>\n",
       "      <td>4226.000</td>\n",
       "      <td>4226.000</td>\n",
       "      <td>4226.000</td>\n",
       "      <td>4226.000</td>\n",
       "    </tr>\n",
       "    <tr>\n",
       "      <th>mean</th>\n",
       "      <td>280371.163</td>\n",
       "      <td>4218.630</td>\n",
       "      <td>7.783</td>\n",
       "      <td>28.104</td>\n",
       "      <td>2001.057</td>\n",
       "      <td>6462.924</td>\n",
       "      <td>2150743.439</td>\n",
       "      <td>2536338.472</td>\n",
       "      <td>5.257</td>\n",
       "      <td>89.556</td>\n",
       "      <td>15.974</td>\n",
       "      <td>0.955</td>\n",
       "    </tr>\n",
       "    <tr>\n",
       "      <th>std</th>\n",
       "      <td>112640.128</td>\n",
       "      <td>13036.080</td>\n",
       "      <td>6.134</td>\n",
       "      <td>11.864</td>\n",
       "      <td>17.497</td>\n",
       "      <td>31596.007</td>\n",
       "      <td>7176604.483</td>\n",
       "      <td>8243516.266</td>\n",
       "      <td>2.123</td>\n",
       "      <td>21.086</td>\n",
       "      <td>26.205</td>\n",
       "      <td>0.955</td>\n",
       "    </tr>\n",
       "    <tr>\n",
       "      <th>min</th>\n",
       "      <td>7909.000</td>\n",
       "      <td>2.188</td>\n",
       "      <td>1.000</td>\n",
       "      <td>1.000</td>\n",
       "      <td>1916.000</td>\n",
       "      <td>0.000</td>\n",
       "      <td>0.000</td>\n",
       "      <td>0.000</td>\n",
       "      <td>0.000</td>\n",
       "      <td>4.037</td>\n",
       "      <td>0.000</td>\n",
       "      <td>0.000</td>\n",
       "    </tr>\n",
       "    <tr>\n",
       "      <th>25%</th>\n",
       "      <td>285104.250</td>\n",
       "      <td>351.169</td>\n",
       "      <td>4.000</td>\n",
       "      <td>20.000</td>\n",
       "      <td>1998.000</td>\n",
       "      <td>81.000</td>\n",
       "      <td>0.000</td>\n",
       "      <td>0.000</td>\n",
       "      <td>4.300</td>\n",
       "      <td>82.602</td>\n",
       "      <td>0.000</td>\n",
       "      <td>0.000</td>\n",
       "    </tr>\n",
       "    <tr>\n",
       "      <th>50%</th>\n",
       "      <td>313891.500</td>\n",
       "      <td>1193.500</td>\n",
       "      <td>6.000</td>\n",
       "      <td>28.000</td>\n",
       "      <td>2008.000</td>\n",
       "      <td>535.000</td>\n",
       "      <td>0.000</td>\n",
       "      <td>0.000</td>\n",
       "      <td>5.800</td>\n",
       "      <td>90.730</td>\n",
       "      <td>0.000</td>\n",
       "      <td>1.000</td>\n",
       "    </tr>\n",
       "    <tr>\n",
       "      <th>75%</th>\n",
       "      <td>349345.750</td>\n",
       "      <td>3356.789</td>\n",
       "      <td>9.000</td>\n",
       "      <td>36.000</td>\n",
       "      <td>2012.000</td>\n",
       "      <td>3053.000</td>\n",
       "      <td>1500000.000</td>\n",
       "      <td>0.000</td>\n",
       "      <td>6.800</td>\n",
       "      <td>99.500</td>\n",
       "      <td>41.000</td>\n",
       "      <td>1.667</td>\n",
       "    </tr>\n",
       "    <tr>\n",
       "      <th>max</th>\n",
       "      <td>394880.000</td>\n",
       "      <td>307127.606</td>\n",
       "      <td>41.000</td>\n",
       "      <td>70.000</td>\n",
       "      <td>2017.000</td>\n",
       "      <td>948630.000</td>\n",
       "      <td>107000000.000</td>\n",
       "      <td>184208848.000</td>\n",
       "      <td>10.000</td>\n",
       "      <td>246.017</td>\n",
       "      <td>100.000</td>\n",
       "      <td>4.000</td>\n",
       "    </tr>\n",
       "  </tbody>\n",
       "</table>\n",
       "</div>"
      ],
      "text/plain": [
       "        video_id  cvt_per_day  weighted_categorical_position  \\\n",
       "count   4226.000     4226.000                       4226.000   \n",
       "mean  280371.163     4218.630                          7.783   \n",
       "std   112640.128    13036.080                          6.134   \n",
       "min     7909.000        2.188                          1.000   \n",
       "25%   285104.250      351.169                          4.000   \n",
       "50%   313891.500     1193.500                          6.000   \n",
       "75%   349345.750     3356.789                          9.000   \n",
       "max   394880.000   307127.606                         41.000   \n",
       "\n",
       "       weighted_horizontal_poition  release_year  imdb_votes        budget  \\\n",
       "count                     4226.000      4226.000    4226.000      4226.000   \n",
       "mean                        28.104      2001.057    6462.924   2150743.439   \n",
       "std                         11.864        17.497   31596.007   7176604.483   \n",
       "min                          1.000      1916.000       0.000         0.000   \n",
       "25%                         20.000      1998.000      81.000         0.000   \n",
       "50%                         28.000      2008.000     535.000         0.000   \n",
       "75%                         36.000      2012.000    3053.000   1500000.000   \n",
       "max                         70.000      2017.000  948630.000 107000000.000   \n",
       "\n",
       "          boxoffice  imdb_rating  duration_in_mins  metacritic_score  \\\n",
       "count      4226.000     4226.000          4226.000          4226.000   \n",
       "mean    2536338.472        5.257            89.556            15.974   \n",
       "std     8243516.266        2.123            21.086            26.205   \n",
       "min           0.000        0.000             4.037             0.000   \n",
       "25%           0.000        4.300            82.602             0.000   \n",
       "50%           0.000        5.800            90.730             0.000   \n",
       "75%           0.000        6.800            99.500            41.000   \n",
       "max   184208848.000       10.000           246.017           100.000   \n",
       "\n",
       "       star_category  \n",
       "count       4226.000  \n",
       "mean           0.955  \n",
       "std            0.955  \n",
       "min            0.000  \n",
       "25%            0.000  \n",
       "50%            1.000  \n",
       "75%            1.667  \n",
       "max            4.000  "
      ]
     },
     "execution_count": 7,
     "metadata": {},
     "output_type": "execute_result"
    }
   ],
   "source": [
    "TV.describe()"
   ]
  },
  {
   "cell_type": "markdown",
   "metadata": {},
   "source": [
    "There are 4 variables have about 25% zeros in the data, which make no secse, like budget, boxoffice, metacritic_score and star_category, and for budget, boxoffice and metacritic_score, there are 50% 0, which are missing values."
   ]
  },
  {
   "cell_type": "code",
   "execution_count": 8,
   "metadata": {},
   "outputs": [
    {
     "name": "stdout",
     "output_type": "stream",
     "text": [
      "There is no duplicate data\n"
     ]
    },
    {
     "name": "stderr",
     "output_type": "stream",
     "text": [
      "/anaconda3/lib/python3.6/site-packages/ipykernel_launcher.py:2: FutureWarning: 'get_duplicates' is deprecated and will be removed in a future release. You can use idx[idx.duplicated()].unique() instead\n",
      "  \n"
     ]
    }
   ],
   "source": [
    "# check duplicate data\n",
    "if len(TV.set_index(\"video_id\").index.get_duplicates()) == 0:\n",
    "    print (\"There is no duplicate data\")"
   ]
  },
  {
   "cell_type": "code",
   "execution_count": 9,
   "metadata": {},
   "outputs": [
    {
     "data": {
      "image/png": "[encoded data removed]",
      "text/plain": [
       "<matplotlib.figure.Figure at 0x1117c8978>"
      ]
     },
     "metadata": {},
     "output_type": "display_data"
    },
    {
     "data": {
      "image/png": "[encoded data removed]",
      "text/plain": [
       "<matplotlib.figure.Figure at 0x10add09b0>"
      ]
     },
     "metadata": {},
     "output_type": "display_data"
    }
   ],
   "source": [
    "# see the predictive variable\n",
    "plt.hist(TV[\"cvt_per_day\"], bins = range(0, 15000, 30), color = \"r\", alpha = 0.5, density = True, label = \"cvt_per_day\")\n",
    "plt.legend(loc = \"upper right\")\n",
    "plt.title(\"Historgrams of cvt_per_day before data processing\")\n",
    "plt.xlabel(\"cvt_per_day\")\n",
    "plt.ylabel(\"density\")\n",
    "plt.show()\n",
    "\n",
    "plt.hist(TV[\"cvt_per_day\"], log = True, bins = range(0, 15000, 30), density = True, color = \"g\", label = \"cvt_per_day_log_scale\")\n",
    "plt.legend(loc = \"upper center\")\n",
    "plt.title(\"Historgrams of cvt_per_day_log before data processing\")\n",
    "plt.xlabel(\"cvt_per_day_log_scale\")\n",
    "plt.ylabel(\"density\")\n",
    "plt.show()"
   ]
  },
  {
   "cell_type": "code",
   "execution_count": 10,
   "metadata": {},
   "outputs": [
    {
     "data": {
      "text/html": [
       "<div>\n",
       "<style scoped>\n",
       "    .dataframe tbody tr th:only-of-type {\n",
       "        vertical-align: middle;\n",
       "    }\n",
       "\n",
       "    .dataframe tbody tr th {\n",
       "        vertical-align: top;\n",
       "    }\n",
       "\n",
       "    .dataframe thead th {\n",
       "        text-align: right;\n",
       "    }\n",
       "</style>\n",
       "<table border=\"1\" class=\"dataframe\">\n",
       "  <thead>\n",
       "    <tr style=\"text-align: right;\">\n",
       "      <th></th>\n",
       "      <th>cvt_per_day</th>\n",
       "      <th>weighted_categorical_position</th>\n",
       "      <th>weighted_horizontal_poition</th>\n",
       "      <th>release_year</th>\n",
       "      <th>imdb_votes</th>\n",
       "      <th>budget</th>\n",
       "      <th>boxoffice</th>\n",
       "      <th>imdb_rating</th>\n",
       "      <th>duration_in_mins</th>\n",
       "      <th>metacritic_score</th>\n",
       "      <th>star_category</th>\n",
       "    </tr>\n",
       "  </thead>\n",
       "  <tbody>\n",
       "    <tr>\n",
       "      <th>cvt_per_day</th>\n",
       "      <td>1.000</td>\n",
       "      <td>-0.148</td>\n",
       "      <td>-0.302</td>\n",
       "      <td>0.046</td>\n",
       "      <td>0.298</td>\n",
       "      <td>0.316</td>\n",
       "      <td>0.312</td>\n",
       "      <td>0.059</td>\n",
       "      <td>0.152</td>\n",
       "      <td>0.249</td>\n",
       "      <td>0.247</td>\n",
       "    </tr>\n",
       "    <tr>\n",
       "      <th>weighted_categorical_position</th>\n",
       "      <td>-0.148</td>\n",
       "      <td>1.000</td>\n",
       "      <td>-0.084</td>\n",
       "      <td>-0.069</td>\n",
       "      <td>-0.064</td>\n",
       "      <td>-0.090</td>\n",
       "      <td>-0.074</td>\n",
       "      <td>-0.116</td>\n",
       "      <td>-0.174</td>\n",
       "      <td>-0.044</td>\n",
       "      <td>-0.123</td>\n",
       "    </tr>\n",
       "    <tr>\n",
       "      <th>weighted_horizontal_poition</th>\n",
       "      <td>-0.302</td>\n",
       "      <td>-0.084</td>\n",
       "      <td>1.000</td>\n",
       "      <td>0.027</td>\n",
       "      <td>-0.221</td>\n",
       "      <td>-0.211</td>\n",
       "      <td>-0.245</td>\n",
       "      <td>-0.162</td>\n",
       "      <td>-0.102</td>\n",
       "      <td>-0.255</td>\n",
       "      <td>-0.168</td>\n",
       "    </tr>\n",
       "    <tr>\n",
       "      <th>release_year</th>\n",
       "      <td>0.046</td>\n",
       "      <td>-0.069</td>\n",
       "      <td>0.027</td>\n",
       "      <td>1.000</td>\n",
       "      <td>-0.083</td>\n",
       "      <td>-0.040</td>\n",
       "      <td>-0.128</td>\n",
       "      <td>-0.199</td>\n",
       "      <td>-0.097</td>\n",
       "      <td>-0.167</td>\n",
       "      <td>-0.198</td>\n",
       "    </tr>\n",
       "    <tr>\n",
       "      <th>imdb_votes</th>\n",
       "      <td>0.298</td>\n",
       "      <td>-0.064</td>\n",
       "      <td>-0.221</td>\n",
       "      <td>-0.083</td>\n",
       "      <td>1.000</td>\n",
       "      <td>0.273</td>\n",
       "      <td>0.531</td>\n",
       "      <td>0.163</td>\n",
       "      <td>0.156</td>\n",
       "      <td>0.322</td>\n",
       "      <td>0.225</td>\n",
       "    </tr>\n",
       "    <tr>\n",
       "      <th>budget</th>\n",
       "      <td>0.316</td>\n",
       "      <td>-0.090</td>\n",
       "      <td>-0.211</td>\n",
       "      <td>-0.040</td>\n",
       "      <td>0.273</td>\n",
       "      <td>1.000</td>\n",
       "      <td>0.505</td>\n",
       "      <td>0.106</td>\n",
       "      <td>0.251</td>\n",
       "      <td>0.315</td>\n",
       "      <td>0.322</td>\n",
       "    </tr>\n",
       "    <tr>\n",
       "      <th>boxoffice</th>\n",
       "      <td>0.312</td>\n",
       "      <td>-0.074</td>\n",
       "      <td>-0.245</td>\n",
       "      <td>-0.128</td>\n",
       "      <td>0.531</td>\n",
       "      <td>0.505</td>\n",
       "      <td>1.000</td>\n",
       "      <td>0.164</td>\n",
       "      <td>0.226</td>\n",
       "      <td>0.465</td>\n",
       "      <td>0.322</td>\n",
       "    </tr>\n",
       "    <tr>\n",
       "      <th>imdb_rating</th>\n",
       "      <td>0.059</td>\n",
       "      <td>-0.116</td>\n",
       "      <td>-0.162</td>\n",
       "      <td>-0.199</td>\n",
       "      <td>0.163</td>\n",
       "      <td>0.106</td>\n",
       "      <td>0.164</td>\n",
       "      <td>1.000</td>\n",
       "      <td>0.344</td>\n",
       "      <td>0.347</td>\n",
       "      <td>0.192</td>\n",
       "    </tr>\n",
       "    <tr>\n",
       "      <th>duration_in_mins</th>\n",
       "      <td>0.152</td>\n",
       "      <td>-0.174</td>\n",
       "      <td>-0.102</td>\n",
       "      <td>-0.097</td>\n",
       "      <td>0.156</td>\n",
       "      <td>0.251</td>\n",
       "      <td>0.226</td>\n",
       "      <td>0.344</td>\n",
       "      <td>1.000</td>\n",
       "      <td>0.327</td>\n",
       "      <td>0.309</td>\n",
       "    </tr>\n",
       "    <tr>\n",
       "      <th>metacritic_score</th>\n",
       "      <td>0.249</td>\n",
       "      <td>-0.044</td>\n",
       "      <td>-0.255</td>\n",
       "      <td>-0.167</td>\n",
       "      <td>0.322</td>\n",
       "      <td>0.315</td>\n",
       "      <td>0.465</td>\n",
       "      <td>0.347</td>\n",
       "      <td>0.327</td>\n",
       "      <td>1.000</td>\n",
       "      <td>0.452</td>\n",
       "    </tr>\n",
       "    <tr>\n",
       "      <th>star_category</th>\n",
       "      <td>0.247</td>\n",
       "      <td>-0.123</td>\n",
       "      <td>-0.168</td>\n",
       "      <td>-0.198</td>\n",
       "      <td>0.225</td>\n",
       "      <td>0.322</td>\n",
       "      <td>0.322</td>\n",
       "      <td>0.192</td>\n",
       "      <td>0.309</td>\n",
       "      <td>0.452</td>\n",
       "      <td>1.000</td>\n",
       "    </tr>\n",
       "  </tbody>\n",
       "</table>\n",
       "</div>"
      ],
      "text/plain": [
       "                               cvt_per_day  weighted_categorical_position  \\\n",
       "cvt_per_day                          1.000                         -0.148   \n",
       "weighted_categorical_position       -0.148                          1.000   \n",
       "weighted_horizontal_poition         -0.302                         -0.084   \n",
       "release_year                         0.046                         -0.069   \n",
       "imdb_votes                           0.298                         -0.064   \n",
       "budget                               0.316                         -0.090   \n",
       "boxoffice                            0.312                         -0.074   \n",
       "imdb_rating                          0.059                         -0.116   \n",
       "duration_in_mins                     0.152                         -0.174   \n",
       "metacritic_score                     0.249                         -0.044   \n",
       "star_category                        0.247                         -0.123   \n",
       "\n",
       "                               weighted_horizontal_poition  release_year  \\\n",
       "cvt_per_day                                         -0.302         0.046   \n",
       "weighted_categorical_position                       -0.084        -0.069   \n",
       "weighted_horizontal_poition                          1.000         0.027   \n",
       "release_year                                         0.027         1.000   \n",
       "imdb_votes                                          -0.221        -0.083   \n",
       "budget                                              -0.211        -0.040   \n",
       "boxoffice                                           -0.245        -0.128   \n",
       "imdb_rating                                         -0.162        -0.199   \n",
       "duration_in_mins                                    -0.102        -0.097   \n",
       "metacritic_score                                    -0.255        -0.167   \n",
       "star_category                                       -0.168        -0.198   \n",
       "\n",
       "                               imdb_votes  budget  boxoffice  imdb_rating  \\\n",
       "cvt_per_day                         0.298   0.316      0.312        0.059   \n",
       "weighted_categorical_position      -0.064  -0.090     -0.074       -0.116   \n",
       "weighted_horizontal_poition        -0.221  -0.211     -0.245       -0.162   \n",
       "release_year                       -0.083  -0.040     -0.128       -0.199   \n",
       "imdb_votes                          1.000   0.273      0.531        0.163   \n",
       "budget                              0.273   1.000      0.505        0.106   \n",
       "boxoffice                           0.531   0.505      1.000        0.164   \n",
       "imdb_rating                         0.163   0.106      0.164        1.000   \n",
       "duration_in_mins                    0.156   0.251      0.226        0.344   \n",
       "metacritic_score                    0.322   0.315      0.465        0.347   \n",
       "star_category                       0.225   0.322      0.322        0.192   \n",
       "\n",
       "                               duration_in_mins  metacritic_score  \\\n",
       "cvt_per_day                               0.152             0.249   \n",
       "weighted_categorical_position            -0.174            -0.044   \n",
       "weighted_horizontal_poition              -0.102            -0.255   \n",
       "release_year                             -0.097            -0.167   \n",
       "imdb_votes                                0.156             0.322   \n",
       "budget                                    0.251             0.315   \n",
       "boxoffice                                 0.226             0.465   \n",
       "imdb_rating                               0.344             0.347   \n",
       "duration_in_mins                          1.000             0.327   \n",
       "metacritic_score                          0.327             1.000   \n",
       "star_category                             0.309             0.452   \n",
       "\n",
       "                               star_category  \n",
       "cvt_per_day                            0.247  \n",
       "weighted_categorical_position         -0.123  \n",
       "weighted_horizontal_poition           -0.168  \n",
       "release_year                          -0.198  \n",
       "imdb_votes                             0.225  \n",
       "budget                                 0.322  \n",
       "boxoffice                              0.322  \n",
       "imdb_rating                            0.192  \n",
       "duration_in_mins                       0.309  \n",
       "metacritic_score                       0.452  \n",
       "star_category                          1.000  "
      ]
     },
     "execution_count": 10,
     "metadata": {},
     "output_type": "execute_result"
    }
   ],
   "source": [
    "# see correlations\n",
    "corr = TV[['cvt_per_day','weighted_categorical_position','weighted_horizontal_poition'\n",
    "               ,'release_year', 'imdb_votes', 'budget', 'boxoffice' ,'imdb_rating', \n",
    "               'duration_in_mins', 'metacritic_score', 'star_category']].corr()\n",
    "corr"
   ]
  },
  {
   "cell_type": "code",
   "execution_count": 11,
   "metadata": {},
   "outputs": [
    {
     "data": {
      "text/plain": [
       "<matplotlib.axes._subplots.AxesSubplot at 0x116671048>"
      ]
     },
     "execution_count": 11,
     "metadata": {},
     "output_type": "execute_result"
    },
    {
     "data": {
      "image/png": "[encoded data removed]",
      "text/plain": [
       "<matplotlib.figure.Figure at 0x1165e7940>"
      ]
     },
     "metadata": {},
     "output_type": "display_data"
    }
   ],
   "source": [
    "sns.heatmap(corr, cmap = \"YlGnBu\")"
   ]
  },
  {
   "cell_type": "code",
   "execution_count": 14,
   "metadata": {},
   "outputs": [
    {
     "data": {
      "image/png": "[encoded data removed]",
      "text/plain": [
       "<matplotlib.figure.Figure at 0x1a1bc51128>"
      ]
     },
     "metadata": {},
     "output_type": "display_data"
    },
    {
     "name": "stdout",
     "output_type": "stream",
     "text": [
      "       index  import_id\n",
      "0      other       2963\n",
      "1  lionsgate        677\n",
      "2        mgm        445\n",
      "3  paramount        141\n"
     ]
    },
    {
     "data": {
      "image/png": "[encoded data removed]",
      "text/plain": [
       "<matplotlib.figure.Figure at 0x1168ef390>"
      ]
     },
     "metadata": {},
     "output_type": "display_data"
    },
    {
     "name": "stdout",
     "output_type": "stream",
     "text": [
      "NotRated    2158\n",
      "R           1158\n",
      "PG-13        426\n",
      "PG           353\n",
      "G            125\n",
      "NC-17          6\n",
      "Name: mpaa, dtype: int64\n"
     ]
    },
    {
     "data": {
      "image/png": "[encoded data removed]",
      "text/plain": [
       "<matplotlib.figure.Figure at 0x111a07400>"
      ]
     },
     "metadata": {},
     "output_type": "display_data"
    },
    {
     "name": "stdout",
     "output_type": "stream",
     "text": [
      "          index  awards\n",
      "0      no award    2569\n",
      "1   other award    1453\n",
      "2         Oscar     141\n",
      "3  Golden Globe      44\n",
      "4         BAFTA      19\n"
     ]
    }
   ],
   "source": [
    "# see categorical variables\n",
    "sns.stripplot(x = \"import_id\", y = \"cvt_per_day\", data = TV, jitter = True)\n",
    "plt.show()\n",
    "print(TV[\"import_id\"].value_counts().reset_index())\n",
    "\n",
    "sns.stripplot(x = \"mpaa\", y = \"cvt_per_day\", data = TV, jitter = True)\n",
    "plt.show()\n",
    "print(TV[\"mpaa\"].value_counts())\n",
    "\n",
    "sns.stripplot(x = \"awards\", y = \"cvt_per_day\", data = TV, jitter = True)\n",
    "plt.show()\n",
    "print(TV[\"awards\"].value_counts().reset_index())\n"
   ]
  },
  {
   "cell_type": "code",
   "execution_count": 34,
   "metadata": {},
   "outputs": [
    {
     "data": {
      "text/plain": [
       "<matplotlib.axes._subplots.AxesSubplot at 0x116b25d30>"
      ]
     },
     "execution_count": 34,
     "metadata": {},
     "output_type": "execute_result"
    },
    {
     "data": {
      "image/png": "[encoded data removed]",
      "text/plain": [
       "<matplotlib.figure.Figure at 0x116b25208>"
      ]
     },
     "metadata": {},
     "output_type": "display_data"
    }
   ],
   "source": [
    "genres_dumy = TV[\"genres\"].str.get_dummies(sep = \",\").sum().sort_values(ascending = False)\n",
    "genres_dumy.plot.bar(color = \"b\", width = 0.75)"
   ]
  },
  {
   "cell_type": "markdown",
   "metadata": {},
   "source": [
    "6 genres including Anime, Reality, Lifestyle, Adult, LGBT, Holiday have low frequencies. Therefore, during feature processing, they will be grouped together as: 'Misc_gen' in the feature 'genres'."
   ]
  },
  {
   "cell_type": "code",
   "execution_count": 36,
   "metadata": {},
   "outputs": [
    {
     "data": {
      "image/png": "[encoded data removed]",
      "text/plain": [
       "<matplotlib.figure.Figure at 0x111739208>"
      ]
     },
     "metadata": {},
     "output_type": "display_data"
    }
   ],
   "source": [
    "TV[\"release_year\"].describe()\n",
    "plt.hist(TV[\"release_year\"], bins = range(1916, 2017, 1), color = \"r\")\n",
    "plt.title(\"Historgrams of release_year before data processing\")\n",
    "plt.xlabel(\"release_year\")\n",
    "plt.ylabel(\"count\")\n",
    "plt.show()"
   ]
  },
  {
   "cell_type": "markdown",
   "metadata": {},
   "source": [
    "# Feature Processing"
   ]
  },
  {
   "cell_type": "markdown",
   "metadata": {},
   "source": [
    "Categorical features\n",
    "There are 5 categorical features: import_id, mpaa, awards, genres, and release_year. There is no missing data in them. They can be converted into dummy/indicators.\n",
    "\n",
    "The first 3 have relatively small sub-types, they can be easily converted to dummies.\n",
    "\n",
    "The 'genres' have 27 different sub-types, 6 of them are rarely observed (refer to previous section). It's reasonable to group these 6 into 1. Note: a video may have more than one genre, in the feature preprocessing, all genres are handled individually.\n",
    "\n",
    "The release_year is bined into 10 buckets based on the year range between 1917 and 2017."
   ]
  },
  {
   "cell_type": "code",
   "execution_count": 37,
   "metadata": {},
   "outputs": [],
   "source": [
    "# Convert 3 Categorical variables into dummy variables\n",
    "d_import_id = pd.get_dummies(TV[\"import_id\"]).astype(np.int)\n",
    "d_mpaa = pd.get_dummies(TV[\"mpaa\"]).astype(np.int)\n",
    "d_awards = pd.get_dummies(TV[\"awards\"]).astype(np.int)"
   ]
  },
  {
   "cell_type": "code",
   "execution_count": 42,
   "metadata": {},
   "outputs": [],
   "source": [
    "# genres\n",
    "d_genres = TV[\"genres\"].str.get_dummies(sep = \",\").astype(np.int)\n",
    "d_genres[\"Misc_gen\"] = d_genres['Anime']|d_genres['Reality']|d_genres['Lifestyle']|d_genres['Adult']|d_genres['LGBT']|d_genres['Holiday']\n",
    "d_genres.drop([\"Anime\", \"Reality\", \"Lifestyle\", \"Adult\", \"LGBT\", \"Holiday\"], inplace = True, axis = 1)"
   ]
  },
  {
   "cell_type": "code",
   "execution_count": 44,
   "metadata": {},
   "outputs": [],
   "source": [
    "# bin year\n",
    "TV[\"release_year\"].describe(percentiles = [0.1, 0.2, 0.3, 0.4, 0.5, 0.6, 0.7, 0.8, 0.9])\n",
    "bin_year = [1916, 1974, 1991, 2001, 2006, 2008, 2010, 2012, 2013, 2014, 2017]\n",
    "year_range = ['1916-1974', '1974-1991', '1991-2001', '2001-2006','2006-2008','2008-2010','2010-2012','2012-2013',\n",
    "              '2013-2014','2014-2017']\n",
    "year_bin = pd.cut(TV['release_year'], bin_year, labels=year_range)\n",
    "d_year = pd.get_dummies(year_bin).astype(int)"
   ]
  },
  {
   "cell_type": "code",
   "execution_count": 52,
   "metadata": {},
   "outputs": [
    {
     "name": "stdout",
     "output_type": "stream",
     "text": [
      "(4226, 58)\n",
      "video_id                         False\n",
      "cvt_per_day                      False\n",
      "weighted_categorical_position    False\n",
      "weighted_horizontal_poition      False\n",
      "imdb_votes                       False\n",
      "budget                           False\n",
      "boxoffice                        False\n",
      "imdb_rating                      False\n",
      "duration_in_mins                 False\n",
      "metacritic_score                 False\n",
      "star_category                    False\n",
      "lionsgate                        False\n",
      "mgm                              False\n",
      "other                            False\n",
      "paramount                        False\n",
      "G                                False\n",
      "NC-17                            False\n",
      "NotRated                         False\n",
      "PG                               False\n",
      "PG-13                            False\n",
      "R                                False\n",
      "BAFTA                            False\n",
      "Golden Globe                     False\n",
      "Oscar                            False\n",
      "no award                         False\n",
      "other award                      False\n",
      "Action                           False\n",
      "Adventure                        False\n",
      "Animation                        False\n",
      "Comedy                           False\n",
      "Crime                            False\n",
      "Documentary                      False\n",
      "Drama                            False\n",
      "Fantasy                          False\n",
      "Foreign/International            False\n",
      "Horror                           False\n",
      "Independent                      False\n",
      "Kids & Family                    False\n",
      "Music                            False\n",
      "Musicals                         False\n",
      "Mystery                          False\n",
      "Romance                          False\n",
      "Sci-Fi                           False\n",
      "Sport                            False\n",
      "Thriller                         False\n",
      "War                              False\n",
      "Western                          False\n",
      "Misc_gen                         False\n",
      "1916-1974                        False\n",
      "1974-1991                        False\n",
      "1991-2001                        False\n",
      "2001-2006                        False\n",
      "2006-2008                        False\n",
      "2008-2010                        False\n",
      "2010-2012                        False\n",
      "2012-2013                        False\n",
      "2013-2014                        False\n",
      "2014-2017                        False\n",
      "dtype: bool\n"
     ]
    }
   ],
   "source": [
    "TV_temp = TV.drop([\"import_id\", \"mpaa\", \"awards\", \"genres\", \"release_year\"], axis = 1)\n",
    "newTV = pd.concat([TV_temp, d_import_id, d_mpaa, d_awards, d_genres, d_year], axis=1)\n",
    "print(newTV.shape)\n",
    "print(pd.isnull(newTV).any())\n",
    "newTV_copy = newTV.copy()"
   ]
  },
  {
   "cell_type": "code",
   "execution_count": 53,
   "metadata": {},
   "outputs": [
    {
     "name": "stdout",
     "output_type": "stream",
     "text": [
      "<class 'pandas.core.frame.DataFrame'>\n",
      "RangeIndex: 4226 entries, 0 to 4225\n",
      "Data columns (total 58 columns):\n",
      "video_id                         4226 non-null int64\n",
      "cvt_per_day                      4226 non-null float64\n",
      "weighted_categorical_position    4226 non-null int64\n",
      "weighted_horizontal_poition      4226 non-null int64\n",
      "imdb_votes                       4226 non-null int64\n",
      "budget                           4226 non-null int64\n",
      "boxoffice                        4226 non-null int64\n",
      "imdb_rating                      4226 non-null float64\n",
      "duration_in_mins                 4226 non-null float64\n",
      "metacritic_score                 4226 non-null int64\n",
      "star_category                    4226 non-null float64\n",
      "lionsgate                        4226 non-null int64\n",
      "mgm                              4226 non-null int64\n",
      "other                            4226 non-null int64\n",
      "paramount                        4226 non-null int64\n",
      "G                                4226 non-null int64\n",
      "NC-17                            4226 non-null int64\n",
      "NotRated                         4226 non-null int64\n",
      "PG                               4226 non-null int64\n",
      "PG-13                            4226 non-null int64\n",
      "R                                4226 non-null int64\n",
      "BAFTA                            4226 non-null int64\n",
      "Golden Globe                     4226 non-null int64\n",
      "Oscar                            4226 non-null int64\n",
      "no award                         4226 non-null int64\n",
      "other award                      4226 non-null int64\n",
      "Action                           4226 non-null int64\n",
      "Adventure                        4226 non-null int64\n",
      "Animation                        4226 non-null int64\n",
      "Comedy                           4226 non-null int64\n",
      "Crime                            4226 non-null int64\n",
      "Documentary                      4226 non-null int64\n",
      "Drama                            4226 non-null int64\n",
      "Fantasy                          4226 non-null int64\n",
      "Foreign/International            4226 non-null int64\n",
      "Horror                           4226 non-null int64\n",
      "Independent                      4226 non-null int64\n",
      "Kids & Family                    4226 non-null int64\n",
      "Music                            4226 non-null int64\n",
      "Musicals                         4226 non-null int64\n",
      "Mystery                          4226 non-null int64\n",
      "Romance                          4226 non-null int64\n",
      "Sci-Fi                           4226 non-null int64\n",
      "Sport                            4226 non-null int64\n",
      "Thriller                         4226 non-null int64\n",
      "War                              4226 non-null int64\n",
      "Western                          4226 non-null int64\n",
      "Misc_gen                         4226 non-null int64\n",
      "1916-1974                        4226 non-null int64\n",
      "1974-1991                        4226 non-null int64\n",
      "1991-2001                        4226 non-null int64\n",
      "2001-2006                        4226 non-null int64\n",
      "2006-2008                        4226 non-null int64\n",
      "2008-2010                        4226 non-null int64\n",
      "2010-2012                        4226 non-null int64\n",
      "2012-2013                        4226 non-null int64\n",
      "2013-2014                        4226 non-null int64\n",
      "2014-2017                        4226 non-null int64\n",
      "dtypes: float64(4), int64(54)\n",
      "memory usage: 1.9 MB\n"
     ]
    }
   ],
   "source": [
    "newTV.info()"
   ]
  },
  {
   "cell_type": "markdown",
   "metadata": {},
   "source": [
    "\n",
    "Feature space holds 4226 observations and 58 features in total.\n",
    "\n",
    "There is NO null data. newTV_0 is kepted as the raw dataframe before any further feature processing.\n",
    "\n",
    "We will replace 0 with null, and then fill missing value etc.\n",
    "\n"
   ]
  },
  {
   "cell_type": "markdown",
   "metadata": {},
   "source": [
    "# Handling of missing data"
   ]
  },
  {
   "cell_type": "code",
   "execution_count": 54,
   "metadata": {},
   "outputs": [
    {
     "data": {
      "text/plain": [
       "video_id                            0\n",
       "cvt_per_day                         0\n",
       "weighted_categorical_position       0\n",
       "weighted_horizontal_poition         0\n",
       "imdb_votes                        344\n",
       "budget                           2454\n",
       "boxoffice                        3194\n",
       "imdb_rating                       344\n",
       "duration_in_mins                    0\n",
       "metacritic_score                 3012\n",
       "star_category                    1846\n",
       "lionsgate                           0\n",
       "mgm                                 0\n",
       "other                               0\n",
       "paramount                           0\n",
       "G                                   0\n",
       "NC-17                               0\n",
       "NotRated                            0\n",
       "PG                                  0\n",
       "PG-13                               0\n",
       "R                                   0\n",
       "BAFTA                               0\n",
       "Golden Globe                        0\n",
       "Oscar                               0\n",
       "no award                            0\n",
       "other award                         0\n",
       "Action                              0\n",
       "Adventure                           0\n",
       "Animation                           0\n",
       "Comedy                              0\n",
       "Crime                               0\n",
       "Documentary                         0\n",
       "Drama                               0\n",
       "Fantasy                             0\n",
       "Foreign/International               0\n",
       "Horror                              0\n",
       "Independent                         0\n",
       "Kids & Family                       0\n",
       "Music                               0\n",
       "Musicals                            0\n",
       "Mystery                             0\n",
       "Romance                             0\n",
       "Sci-Fi                              0\n",
       "Sport                               0\n",
       "Thriller                            0\n",
       "War                                 0\n",
       "Western                             0\n",
       "Misc_gen                            0\n",
       "1916-1974                           0\n",
       "1974-1991                           0\n",
       "1991-2001                           0\n",
       "2001-2006                           0\n",
       "2006-2008                           0\n",
       "2008-2010                           0\n",
       "2010-2012                           0\n",
       "2012-2013                           0\n",
       "2013-2014                           0\n",
       "2014-2017                           0\n",
       "dtype: int64"
      ]
     },
     "execution_count": 54,
     "metadata": {},
     "output_type": "execute_result"
    }
   ],
   "source": [
    "# replace 0 with nan, you should not use newTV = newTV.replace(), since after one_hot, a lot 0 which we should not replace with nan.\n",
    "# we shouls see before precessing, which column has 0 and replace them\n",
    "newTV[['budget','boxoffice','metacritic_score', 'star_category','imdb_votes', 'imdb_rating']] = newTV[['budget','boxoffice','metacritic_score', 'star_category','imdb_votes', 'imdb_rating']].replace(0, np.nan)\n",
    "newTV.isnull().sum()"
   ]
  },
  {
   "cell_type": "code",
   "execution_count": 55,
   "metadata": {},
   "outputs": [
    {
     "data": {
      "text/plain": [
       "video_id                         0\n",
       "cvt_per_day                      0\n",
       "weighted_categorical_position    0\n",
       "weighted_horizontal_poition      0\n",
       "imdb_votes                       0\n",
       "budget                           0\n",
       "boxoffice                        0\n",
       "imdb_rating                      0\n",
       "duration_in_mins                 0\n",
       "metacritic_score                 0\n",
       "star_category                    0\n",
       "lionsgate                        0\n",
       "mgm                              0\n",
       "other                            0\n",
       "paramount                        0\n",
       "G                                0\n",
       "NC-17                            0\n",
       "NotRated                         0\n",
       "PG                               0\n",
       "PG-13                            0\n",
       "R                                0\n",
       "BAFTA                            0\n",
       "Golden Globe                     0\n",
       "Oscar                            0\n",
       "no award                         0\n",
       "other award                      0\n",
       "Action                           0\n",
       "Adventure                        0\n",
       "Animation                        0\n",
       "Comedy                           0\n",
       "Crime                            0\n",
       "Documentary                      0\n",
       "Drama                            0\n",
       "Fantasy                          0\n",
       "Foreign/International            0\n",
       "Horror                           0\n",
       "Independent                      0\n",
       "Kids & Family                    0\n",
       "Music                            0\n",
       "Musicals                         0\n",
       "Mystery                          0\n",
       "Romance                          0\n",
       "Sci-Fi                           0\n",
       "Sport                            0\n",
       "Thriller                         0\n",
       "War                              0\n",
       "Western                          0\n",
       "Misc_gen                         0\n",
       "1916-1974                        0\n",
       "1974-1991                        0\n",
       "1991-2001                        0\n",
       "2001-2006                        0\n",
       "2006-2008                        0\n",
       "2008-2010                        0\n",
       "2010-2012                        0\n",
       "2012-2013                        0\n",
       "2013-2014                        0\n",
       "2014-2017                        0\n",
       "dtype: int64"
      ]
     },
     "execution_count": 55,
     "metadata": {},
     "output_type": "execute_result"
    }
   ],
   "source": [
    "# fill missing values with mean value\n",
    "newTV_copy1 = newTV.copy()\n",
    "newTV[\"imdb_votes\"].fillna(newTV[\"imdb_votes\"].mean(), inplace = True)\n",
    "newTV[\"budget\"] .fillna(newTV[\"budget\"].mean(), inplace = True)\n",
    "newTV[\"boxoffice\"] .fillna(newTV[\"boxoffice\"].mean(), inplace = True)\n",
    "newTV[\"imdb_rating\"] .fillna(newTV[\"imdb_rating\"].mean(), inplace = True)\n",
    "newTV[\"metacritic_score\"] .fillna(newTV[\"metacritic_score\"].mean(), inplace = True)\n",
    "newTV[\"star_category\"] .fillna(newTV[\"star_category\"].mean(), inplace = True)\n",
    "newTV.isnull().sum()"
   ]
  },
  {
   "cell_type": "markdown",
   "metadata": {},
   "source": [
    "# Feature scaling\n"
   ]
  },
  {
   "cell_type": "markdown",
   "metadata": {},
   "source": [
    "The impact of different scaling methods on the model performance is small. In the following model training and selections, the standard scaling (sc) data is used."
   ]
  },
  {
   "cell_type": "code",
   "execution_count": 56,
   "metadata": {},
   "outputs": [
    {
     "data": {
      "text/html": [
       "<div>\n",
       "<style scoped>\n",
       "    .dataframe tbody tr th:only-of-type {\n",
       "        vertical-align: middle;\n",
       "    }\n",
       "\n",
       "    .dataframe tbody tr th {\n",
       "        vertical-align: top;\n",
       "    }\n",
       "\n",
       "    .dataframe thead th {\n",
       "        text-align: right;\n",
       "    }\n",
       "</style>\n",
       "<table border=\"1\" class=\"dataframe\">\n",
       "  <thead>\n",
       "    <tr style=\"text-align: right;\">\n",
       "      <th></th>\n",
       "      <th>video_id</th>\n",
       "      <th>cvt_per_day</th>\n",
       "      <th>weighted_categorical_position</th>\n",
       "      <th>weighted_horizontal_poition</th>\n",
       "      <th>imdb_votes</th>\n",
       "      <th>budget</th>\n",
       "      <th>boxoffice</th>\n",
       "      <th>imdb_rating</th>\n",
       "      <th>duration_in_mins</th>\n",
       "      <th>metacritic_score</th>\n",
       "      <th>...</th>\n",
       "      <th>1916-1974</th>\n",
       "      <th>1974-1991</th>\n",
       "      <th>1991-2001</th>\n",
       "      <th>2001-2006</th>\n",
       "      <th>2006-2008</th>\n",
       "      <th>2008-2010</th>\n",
       "      <th>2010-2012</th>\n",
       "      <th>2012-2013</th>\n",
       "      <th>2013-2014</th>\n",
       "      <th>2014-2017</th>\n",
       "    </tr>\n",
       "  </thead>\n",
       "  <tbody>\n",
       "    <tr>\n",
       "      <th>0</th>\n",
       "      <td>385504</td>\n",
       "      <td>307127.606</td>\n",
       "      <td>-1.106</td>\n",
       "      <td>-2.116</td>\n",
       "      <td>1.984</td>\n",
       "      <td>1.470</td>\n",
       "      <td>4.696</td>\n",
       "      <td>0.542</td>\n",
       "      <td>1.079</td>\n",
       "      <td>-0.630</td>\n",
       "      <td>...</td>\n",
       "      <td>0</td>\n",
       "      <td>0</td>\n",
       "      <td>0</td>\n",
       "      <td>0</td>\n",
       "      <td>0</td>\n",
       "      <td>0</td>\n",
       "      <td>0</td>\n",
       "      <td>1</td>\n",
       "      <td>0</td>\n",
       "      <td>0</td>\n",
       "    </tr>\n",
       "    <tr>\n",
       "      <th>1</th>\n",
       "      <td>300175</td>\n",
       "      <td>270338.426</td>\n",
       "      <td>-1.106</td>\n",
       "      <td>-2.116</td>\n",
       "      <td>1.258</td>\n",
       "      <td>1.470</td>\n",
       "      <td>-1.022</td>\n",
       "      <td>0.542</td>\n",
       "      <td>0.257</td>\n",
       "      <td>-1.997</td>\n",
       "      <td>...</td>\n",
       "      <td>0</td>\n",
       "      <td>0</td>\n",
       "      <td>0</td>\n",
       "      <td>0</td>\n",
       "      <td>0</td>\n",
       "      <td>0</td>\n",
       "      <td>0</td>\n",
       "      <td>1</td>\n",
       "      <td>0</td>\n",
       "      <td>0</td>\n",
       "    </tr>\n",
       "    <tr>\n",
       "      <th>2</th>\n",
       "      <td>361899</td>\n",
       "      <td>256165.867</td>\n",
       "      <td>-1.106</td>\n",
       "      <td>-2.116</td>\n",
       "      <td>6.043</td>\n",
       "      <td>3.108</td>\n",
       "      <td>3.898</td>\n",
       "      <td>1.100</td>\n",
       "      <td>1.243</td>\n",
       "      <td>0.327</td>\n",
       "      <td>...</td>\n",
       "      <td>0</td>\n",
       "      <td>0</td>\n",
       "      <td>0</td>\n",
       "      <td>0</td>\n",
       "      <td>0</td>\n",
       "      <td>0</td>\n",
       "      <td>1</td>\n",
       "      <td>0</td>\n",
       "      <td>0</td>\n",
       "      <td>0</td>\n",
       "    </tr>\n",
       "    <tr>\n",
       "      <th>3</th>\n",
       "      <td>308314</td>\n",
       "      <td>196622.721</td>\n",
       "      <td>-0.780</td>\n",
       "      <td>-2.032</td>\n",
       "      <td>11.077</td>\n",
       "      <td>1.470</td>\n",
       "      <td>0.767</td>\n",
       "      <td>1.309</td>\n",
       "      <td>1.952</td>\n",
       "      <td>5.250</td>\n",
       "      <td>...</td>\n",
       "      <td>0</td>\n",
       "      <td>0</td>\n",
       "      <td>0</td>\n",
       "      <td>0</td>\n",
       "      <td>1</td>\n",
       "      <td>0</td>\n",
       "      <td>0</td>\n",
       "      <td>0</td>\n",
       "      <td>0</td>\n",
       "      <td>0</td>\n",
       "    </tr>\n",
       "    <tr>\n",
       "      <th>4</th>\n",
       "      <td>307201</td>\n",
       "      <td>159841.652</td>\n",
       "      <td>-1.106</td>\n",
       "      <td>-2.116</td>\n",
       "      <td>1.258</td>\n",
       "      <td>3.290</td>\n",
       "      <td>-0.265</td>\n",
       "      <td>0.472</td>\n",
       "      <td>0.758</td>\n",
       "      <td>-2.544</td>\n",
       "      <td>...</td>\n",
       "      <td>0</td>\n",
       "      <td>0</td>\n",
       "      <td>0</td>\n",
       "      <td>0</td>\n",
       "      <td>0</td>\n",
       "      <td>0</td>\n",
       "      <td>0</td>\n",
       "      <td>1</td>\n",
       "      <td>0</td>\n",
       "      <td>0</td>\n",
       "    </tr>\n",
       "  </tbody>\n",
       "</table>\n",
       "<p>5 rows × 58 columns</p>\n",
       "</div>"
      ],
      "text/plain": [
       "   video_id  cvt_per_day  weighted_categorical_position  \\\n",
       "0    385504   307127.606                         -1.106   \n",
       "1    300175   270338.426                         -1.106   \n",
       "2    361899   256165.867                         -1.106   \n",
       "3    308314   196622.721                         -0.780   \n",
       "4    307201   159841.652                         -1.106   \n",
       "\n",
       "   weighted_horizontal_poition  imdb_votes  budget  boxoffice  imdb_rating  \\\n",
       "0                       -2.116       1.984   1.470      4.696        0.542   \n",
       "1                       -2.116       1.258   1.470     -1.022        0.542   \n",
       "2                       -2.116       6.043   3.108      3.898        1.100   \n",
       "3                       -2.032      11.077   1.470      0.767        1.309   \n",
       "4                       -2.116       1.258   3.290     -0.265        0.472   \n",
       "\n",
       "   duration_in_mins  metacritic_score    ...      1916-1974  1974-1991  \\\n",
       "0             1.079            -0.630    ...              0          0   \n",
       "1             0.257            -1.997    ...              0          0   \n",
       "2             1.243             0.327    ...              0          0   \n",
       "3             1.952             5.250    ...              0          0   \n",
       "4             0.758            -2.544    ...              0          0   \n",
       "\n",
       "   1991-2001  2001-2006  2006-2008  2008-2010  2010-2012  2012-2013  \\\n",
       "0          0          0          0          0          0          1   \n",
       "1          0          0          0          0          0          1   \n",
       "2          0          0          0          0          1          0   \n",
       "3          0          0          1          0          0          0   \n",
       "4          0          0          0          0          0          1   \n",
       "\n",
       "   2013-2014  2014-2017  \n",
       "0          0          0  \n",
       "1          0          0  \n",
       "2          0          0  \n",
       "3          0          0  \n",
       "4          0          0  \n",
       "\n",
       "[5 rows x 58 columns]"
      ]
     },
     "execution_count": 56,
     "metadata": {},
     "output_type": "execute_result"
    }
   ],
   "source": [
    "from sklearn import preprocessing\n",
    "newTV_copy2 = newTV.copy()\n",
    "scale_col = ['weighted_categorical_position', 'weighted_horizontal_poition', 'budget','boxoffice', \n",
    "             'imdb_votes','imdb_rating','duration_in_mins', 'metacritic_score','star_category']\n",
    "sc_scale = sl.preprocessing.StandardScaler().fit(newTV[scale_col])\n",
    "newTV[scale_col] = sc_scale.transform(newTV[scale_col])\n",
    "newTV.head()"
   ]
  },
  {
   "cell_type": "markdown",
   "metadata": {},
   "source": [
    "# Model train"
   ]
  },
  {
   "cell_type": "code",
   "execution_count": 57,
   "metadata": {},
   "outputs": [],
   "source": [
    "# split train and test data\n",
    "from sklearn.model_selection import train_test_split   \n",
    "train_data, test_data = train_test_split(newTV, test_size = 0.15, random_state = 3)\n",
    "train_data_x = train_data.drop([\"video_id\", \"cvt_per_day\"], axis = 1)\n",
    "train_data_y = train_data[\"cvt_per_day\"]\n",
    "test_data_x = test_data.drop([\"video_id\", \"cvt_per_day\"], axis = 1)\n",
    "test_data_y = test_data[\"cvt_per_day\"]"
   ]
  },
  {
   "cell_type": "code",
   "execution_count": 58,
   "metadata": {},
   "outputs": [],
   "source": [
    "# split train data to train and valid data\n",
    "la_train_x, la_valid_x, la_train_y, la_valid_y = train_test_split(train_data_x, train_data_y, test_size = 0.15, random_state = 0)"
   ]
  },
  {
   "cell_type": "code",
   "execution_count": 59,
   "metadata": {},
   "outputs": [
    {
     "data": {
      "image/png": "[encoded data removed]",
      "text/plain": [
       "<matplotlib.figure.Figure at 0x1166c9a90>"
      ]
     },
     "metadata": {},
     "output_type": "display_data"
    },
    {
     "name": "stdout",
     "output_type": "stream",
     "text": [
      "The optimal alpha and score is : 122.06107238906554 0.36457853302954235\n"
     ]
    }
   ],
   "source": [
    "from sklearn.linear_model import LinearRegression, Lasso, Ridge\n",
    "alpha = np.logspace(-0.3, 2.5, 150)\n",
    "score = np.empty_like(alpha)\n",
    "max_score = float(\"-inf\")\n",
    "opt_a = float(\"-inf\")\n",
    "for i, a in enumerate(alpha):\n",
    "    lasso = Lasso(alpha = a)\n",
    "    lasso.fit(la_train_x, la_train_y)\n",
    "    score[i] = lasso.score(la_valid_x, la_valid_y)\n",
    "    if score[i] > max_score:\n",
    "        opt_a = a\n",
    "        max_score = score[i]\n",
    "        lasso_save = lasso\n",
    "plt.plot(alpha, score, marker = \"o\", color = \"b\", linestyle = \"dashed\")\n",
    "plt.xlabel(\"alpha\")\n",
    "plt.ylabel(\"score\")\n",
    "plt.grid(True)\n",
    "plt.show()\n",
    "print(\"The optimal alpha and score is :\", opt_a, max_score)"
   ]
  },
  {
   "cell_type": "code",
   "execution_count": 67,
   "metadata": {
    "scrolled": true
   },
   "outputs": [
    {
     "data": {
      "text/plain": [
       "Lasso(alpha=122.06107238906554, copy_X=True, fit_intercept=True, max_iter=1000,\n",
       "      normalize=False, positive=False, precompute=False, random_state=None,\n",
       "      selection='cyclic', tol=0.0001, warm_start=False)"
      ]
     },
     "execution_count": 67,
     "metadata": {},
     "output_type": "execute_result"
    }
   ],
   "source": [
    "# combine the validate data and training data, use the optimal alpha, re-train the model\n",
    "lasso_f = Lasso()\n",
    "lasso_f.set_params(alpha = opt_a)\n",
    "lasso_f.fit(train_data_x, train_data_y)\n",
    "# lasso_f is the Lasso model (linear feature), to be tested with final test data."
   ]
  },
  {
   "cell_type": "markdown",
   "metadata": {},
   "source": [
    "2) Polynomial features\n"
   ]
  },
  {
   "cell_type": "code",
   "execution_count": 68,
   "metadata": {},
   "outputs": [],
   "source": [
    "from sklearn.preprocessing import PolynomialFeatures\n",
    "\n",
    "poly = PolynomialFeatures(2)\n",
    "\n",
    "po_train_x, po_valid_x, po_train_y, po_valid_y = train_test_split(train_data_x, train_data_y, test_size = 0.15, random_state = 0)\n",
    "po_train_xp = poly.fit_transform(po_train_x)\n",
    "po_valid_xp = poly.fit_transform(po_valid_x)"
   ]
  },
  {
   "cell_type": "code",
   "execution_count": 71,
   "metadata": {},
   "outputs": [
    {
     "name": "stderr",
     "output_type": "stream",
     "text": [
      "/anaconda3/lib/python3.6/site-packages/sklearn/linear_model/coordinate_descent.py:475: ConvergenceWarning: Objective did not converge. You might want to increase the number of iterations. Duality gap: 32955562904.80983, tolerance: 48022560.445868395\n",
      "  positive)\n",
      "/anaconda3/lib/python3.6/site-packages/sklearn/linear_model/coordinate_descent.py:475: ConvergenceWarning: Objective did not converge. You might want to increase the number of iterations. Duality gap: 32966202289.15302, tolerance: 48022560.445868395\n",
      "  positive)\n",
      "/anaconda3/lib/python3.6/site-packages/sklearn/linear_model/coordinate_descent.py:475: ConvergenceWarning: Objective did not converge. You might want to increase the number of iterations. Duality gap: 32979663841.27658, tolerance: 48022560.445868395\n",
      "  positive)\n",
      "/anaconda3/lib/python3.6/site-packages/sklearn/linear_model/coordinate_descent.py:475: ConvergenceWarning: Objective did not converge. You might want to increase the number of iterations. Duality gap: 32996615902.66868, tolerance: 48022560.445868395\n",
      "  positive)\n",
      "/anaconda3/lib/python3.6/site-packages/sklearn/linear_model/coordinate_descent.py:475: ConvergenceWarning: Objective did not converge. You might want to increase the number of iterations. Duality gap: 33017968918.530487, tolerance: 48022560.445868395\n",
      "  positive)\n",
      "/anaconda3/lib/python3.6/site-packages/sklearn/linear_model/coordinate_descent.py:475: ConvergenceWarning: Objective did not converge. You might want to increase the number of iterations. Duality gap: 33044730003.42011, tolerance: 48022560.445868395\n",
      "  positive)\n",
      "/anaconda3/lib/python3.6/site-packages/sklearn/linear_model/coordinate_descent.py:475: ConvergenceWarning: Objective did not converge. You might want to increase the number of iterations. Duality gap: 33078164046.872562, tolerance: 48022560.445868395\n",
      "  positive)\n",
      "/anaconda3/lib/python3.6/site-packages/sklearn/linear_model/coordinate_descent.py:475: ConvergenceWarning: Objective did not converge. You might want to increase the number of iterations. Duality gap: 33119897670.506905, tolerance: 48022560.445868395\n",
      "  positive)\n",
      "/anaconda3/lib/python3.6/site-packages/sklearn/linear_model/coordinate_descent.py:475: ConvergenceWarning: Objective did not converge. You might want to increase the number of iterations. Duality gap: 33172097060.368008, tolerance: 48022560.445868395\n",
      "  positive)\n",
      "/anaconda3/lib/python3.6/site-packages/sklearn/linear_model/coordinate_descent.py:475: ConvergenceWarning: Objective did not converge. You might want to increase the number of iterations. Duality gap: 33236798580.58778, tolerance: 48022560.445868395\n",
      "  positive)\n",
      "/anaconda3/lib/python3.6/site-packages/sklearn/linear_model/coordinate_descent.py:475: ConvergenceWarning: Objective did not converge. You might want to increase the number of iterations. Duality gap: 33317778325.447666, tolerance: 48022560.445868395\n",
      "  positive)\n",
      "/anaconda3/lib/python3.6/site-packages/sklearn/linear_model/coordinate_descent.py:475: ConvergenceWarning: Objective did not converge. You might want to increase the number of iterations. Duality gap: 33418410874.377907, tolerance: 48022560.445868395\n",
      "  positive)\n",
      "/anaconda3/lib/python3.6/site-packages/sklearn/linear_model/coordinate_descent.py:475: ConvergenceWarning: Objective did not converge. You might want to increase the number of iterations. Duality gap: 33542978447.286713, tolerance: 48022560.445868395\n",
      "  positive)\n",
      "/anaconda3/lib/python3.6/site-packages/sklearn/linear_model/coordinate_descent.py:475: ConvergenceWarning: Objective did not converge. You might want to increase the number of iterations. Duality gap: 33696719630.934853, tolerance: 48022560.445868395\n",
      "  positive)\n",
      "/anaconda3/lib/python3.6/site-packages/sklearn/linear_model/coordinate_descent.py:475: ConvergenceWarning: Objective did not converge. You might want to increase the number of iterations. Duality gap: 33885592552.950066, tolerance: 48022560.445868395\n",
      "  positive)\n",
      "/anaconda3/lib/python3.6/site-packages/sklearn/linear_model/coordinate_descent.py:475: ConvergenceWarning: Objective did not converge. You might want to increase the number of iterations. Duality gap: 34117538593.51168, tolerance: 48022560.445868395\n",
      "  positive)\n",
      "/anaconda3/lib/python3.6/site-packages/sklearn/linear_model/coordinate_descent.py:475: ConvergenceWarning: Objective did not converge. You might want to increase the number of iterations. Duality gap: 34399287626.9164, tolerance: 48022560.445868395\n",
      "  positive)\n",
      "/anaconda3/lib/python3.6/site-packages/sklearn/linear_model/coordinate_descent.py:475: ConvergenceWarning: Objective did not converge. You might want to increase the number of iterations. Duality gap: 34744485004.26819, tolerance: 48022560.445868395\n",
      "  positive)\n",
      "/anaconda3/lib/python3.6/site-packages/sklearn/linear_model/coordinate_descent.py:475: ConvergenceWarning: Objective did not converge. You might want to increase the number of iterations. Duality gap: 35152351190.67185, tolerance: 48022560.445868395\n",
      "  positive)\n",
      "/anaconda3/lib/python3.6/site-packages/sklearn/linear_model/coordinate_descent.py:475: ConvergenceWarning: Objective did not converge. You might want to increase the number of iterations. Duality gap: 35643892733.75047, tolerance: 48022560.445868395\n",
      "  positive)\n",
      "/anaconda3/lib/python3.6/site-packages/sklearn/linear_model/coordinate_descent.py:475: ConvergenceWarning: Objective did not converge. You might want to increase the number of iterations. Duality gap: 36224715435.52097, tolerance: 48022560.445868395\n",
      "  positive)\n",
      "/anaconda3/lib/python3.6/site-packages/sklearn/linear_model/coordinate_descent.py:475: ConvergenceWarning: Objective did not converge. You might want to increase the number of iterations. Duality gap: 36899617026.89697, tolerance: 48022560.445868395\n",
      "  positive)\n",
      "/anaconda3/lib/python3.6/site-packages/sklearn/linear_model/coordinate_descent.py:475: ConvergenceWarning: Objective did not converge. You might want to increase the number of iterations. Duality gap: 37657618345.0179, tolerance: 48022560.445868395\n",
      "  positive)\n",
      "/anaconda3/lib/python3.6/site-packages/sklearn/linear_model/coordinate_descent.py:475: ConvergenceWarning: Objective did not converge. You might want to increase the number of iterations. Duality gap: 38443200059.23024, tolerance: 48022560.445868395\n",
      "  positive)\n",
      "/anaconda3/lib/python3.6/site-packages/sklearn/linear_model/coordinate_descent.py:475: ConvergenceWarning: Objective did not converge. You might want to increase the number of iterations. Duality gap: 39082982276.590096, tolerance: 48022560.445868395\n",
      "  positive)\n",
      "/anaconda3/lib/python3.6/site-packages/sklearn/linear_model/coordinate_descent.py:475: ConvergenceWarning: Objective did not converge. You might want to increase the number of iterations. Duality gap: 39475392656.63492, tolerance: 48022560.445868395\n",
      "  positive)\n",
      "/anaconda3/lib/python3.6/site-packages/sklearn/linear_model/coordinate_descent.py:475: ConvergenceWarning: Objective did not converge. You might want to increase the number of iterations. Duality gap: 41181833171.43804, tolerance: 48022560.445868395\n",
      "  positive)\n",
      "/anaconda3/lib/python3.6/site-packages/sklearn/linear_model/coordinate_descent.py:475: ConvergenceWarning: Objective did not converge. You might want to increase the number of iterations. Duality gap: 42102851198.608025, tolerance: 48022560.445868395\n",
      "  positive)\n",
      "/anaconda3/lib/python3.6/site-packages/sklearn/linear_model/coordinate_descent.py:475: ConvergenceWarning: Objective did not converge. You might want to increase the number of iterations. Duality gap: 42503511736.62898, tolerance: 48022560.445868395\n",
      "  positive)\n",
      "/anaconda3/lib/python3.6/site-packages/sklearn/linear_model/coordinate_descent.py:475: ConvergenceWarning: Objective did not converge. You might want to increase the number of iterations. Duality gap: 45294521056.19968, tolerance: 48022560.445868395\n",
      "  positive)\n",
      "/anaconda3/lib/python3.6/site-packages/sklearn/linear_model/coordinate_descent.py:475: ConvergenceWarning: Objective did not converge. You might want to increase the number of iterations. Duality gap: 45302311274.83143, tolerance: 48022560.445868395\n",
      "  positive)\n",
      "/anaconda3/lib/python3.6/site-packages/sklearn/linear_model/coordinate_descent.py:475: ConvergenceWarning: Objective did not converge. You might want to increase the number of iterations. Duality gap: 50000935229.264175, tolerance: 48022560.445868395\n",
      "  positive)\n"
     ]
    },
    {
     "name": "stderr",
     "output_type": "stream",
     "text": [
      "/anaconda3/lib/python3.6/site-packages/sklearn/linear_model/coordinate_descent.py:475: ConvergenceWarning: Objective did not converge. You might want to increase the number of iterations. Duality gap: 47545445761.32447, tolerance: 48022560.445868395\n",
      "  positive)\n",
      "/anaconda3/lib/python3.6/site-packages/sklearn/linear_model/coordinate_descent.py:475: ConvergenceWarning: Objective did not converge. You might want to increase the number of iterations. Duality gap: 36259488323.377075, tolerance: 48022560.445868395\n",
      "  positive)\n",
      "/anaconda3/lib/python3.6/site-packages/sklearn/linear_model/coordinate_descent.py:475: ConvergenceWarning: Objective did not converge. You might want to increase the number of iterations. Duality gap: 16906238264.156868, tolerance: 48022560.445868395\n",
      "  positive)\n",
      "/anaconda3/lib/python3.6/site-packages/sklearn/linear_model/coordinate_descent.py:475: ConvergenceWarning: Objective did not converge. You might want to increase the number of iterations. Duality gap: 4338710964.1249695, tolerance: 48022560.445868395\n",
      "  positive)\n",
      "/anaconda3/lib/python3.6/site-packages/sklearn/linear_model/coordinate_descent.py:475: ConvergenceWarning: Objective did not converge. You might want to increase the number of iterations. Duality gap: 1563338464.2331085, tolerance: 48022560.445868395\n",
      "  positive)\n",
      "/anaconda3/lib/python3.6/site-packages/sklearn/linear_model/coordinate_descent.py:475: ConvergenceWarning: Objective did not converge. You might want to increase the number of iterations. Duality gap: 548537532.121994, tolerance: 48022560.445868395\n",
      "  positive)\n",
      "/anaconda3/lib/python3.6/site-packages/sklearn/linear_model/coordinate_descent.py:475: ConvergenceWarning: Objective did not converge. You might want to increase the number of iterations. Duality gap: 309892311.3107605, tolerance: 48022560.445868395\n",
      "  positive)\n"
     ]
    },
    {
     "data": {
      "image/png": "[encoded data removed]",
      "text/plain": [
       "<matplotlib.figure.Figure at 0x1117a0160>"
      ]
     },
     "metadata": {},
     "output_type": "display_data"
    },
    {
     "name": "stdout",
     "output_type": "stream",
     "text": [
      "The optimaized alpha and score of Lasso polynomial is:  154.08313356160554 0.5764034433704796\n"
     ]
    }
   ],
   "source": [
    "alphas = np.logspace (-2.6, 2.5, num=50)\n",
    "# alphas= [1]\n",
    "scores = np.empty_like(alphas)\n",
    "opt_a = float('-inf')\n",
    "max_score = float('-inf')\n",
    "for i, a in enumerate(alphas):\n",
    "    lasso = Lasso()\n",
    "    lasso.set_params(alpha = a)\n",
    "    lasso.fit(po_train_xp, po_train_y)\n",
    "    scores[i] = lasso.score(po_valid_xp, po_valid_y)\n",
    "    if scores[i] > max_score:\n",
    "        max_score = scores[i]\n",
    "        opt_a = a\n",
    "        lasso_save = lasso\n",
    "        \n",
    "plt.plot(alphas, scores, color='b', linestyle='dashed', marker='o',markerfacecolor='blue', markersize=6)\n",
    "plt.xlabel('alpha')\n",
    "plt.ylabel('score')\n",
    "plt.grid(True)\n",
    "plt.title('score vs. alpha')\n",
    "plt.show()\n",
    "print ('The optimaized alpha and score of Lasso polynomial is: ', opt_a, max_score)"
   ]
  },
  {
   "cell_type": "code",
   "execution_count": 72,
   "metadata": {},
   "outputs": [
    {
     "data": {
      "text/plain": [
       "Lasso(alpha=154.08313356160554, copy_X=True, fit_intercept=True, max_iter=1000,\n",
       "      normalize=False, positive=False, precompute=False, random_state=None,\n",
       "      selection='cyclic', tol=0.0001, warm_start=False)"
      ]
     },
     "execution_count": 72,
     "metadata": {},
     "output_type": "execute_result"
    }
   ],
   "source": [
    "# combine the validate data and training data, use the optimal alpha, re-train the model\n",
    "train_data_xp = poly.fit_transform(train_data_x)\n",
    "lasso_fp = Lasso(alpha = opt_a)\n",
    "lasso_fp.fit(train_data_xp, train_data_y)\n",
    "# lasso_fp is the Lasso model (polynomial feature), to be tested with test data."
   ]
  },
  {
   "cell_type": "markdown",
   "metadata": {},
   "source": [
    "Ridge linear regression\n"
   ]
  },
  {
   "cell_type": "code",
   "execution_count": 73,
   "metadata": {},
   "outputs": [],
   "source": [
    "ri_train_x, ri_valid_x, ri_train_y, ri_valid_y = train_test_split(train_data_x, train_data_y, test_size = 0.15, random_state = 0)"
   ]
  },
  {
   "cell_type": "code",
   "execution_count": 74,
   "metadata": {},
   "outputs": [
    {
     "data": {
      "image/png": "[encoded data removed]",
      "text/plain": [
       "<matplotlib.figure.Figure at 0x1a27e6c518>"
      ]
     },
     "metadata": {},
     "output_type": "display_data"
    },
    {
     "name": "stdout",
     "output_type": "stream",
     "text": [
      "The optimaized alpha and score of Ridge polynomial is:  163.97026580002054 0.3529604309849166\n"
     ]
    }
   ],
   "source": [
    "alphas = np.logspace(-10, 3, num = 150)\n",
    "scores = np.empty_like(alphas)\n",
    "opt_a = float(\"-inf\")\n",
    "max_score = float(\"-inf\")\n",
    "for i, a in enumerate(alphas):\n",
    "    ridge = Ridge(alpha = a)\n",
    "    ridge.fit(ri_train_x, ri_train_y)\n",
    "    scores[i] = ridge.score(ri_valid_x, ri_valid_y)\n",
    "    if scores[i] > max_score:\n",
    "        max_score = scores[i]\n",
    "        opt_a = a\n",
    "        ridge_save = ridge\n",
    "plt.plot(alphas, scores, color = \"r\", marker = \"o\")\n",
    "plt.xlabel(\"alpha\")\n",
    "plt.ylabel(\"score\")\n",
    "plt.grid(True)\n",
    "plt.show()\n",
    "print(\"The optimaized alpha and score of Ridge polynomial is: \", opt_a, max_score)"
   ]
  },
  {
   "cell_type": "code",
   "execution_count": 76,
   "metadata": {},
   "outputs": [
    {
     "data": {
      "text/plain": [
       "Ridge(alpha=163.97026580002054, copy_X=True, fit_intercept=True, max_iter=None,\n",
       "      normalize=False, random_state=None, solver='auto', tol=0.001)"
      ]
     },
     "execution_count": 76,
     "metadata": {},
     "output_type": "execute_result"
    }
   ],
   "source": [
    "# add the 15% validate data, use the optimal alpha, re-train the model\n",
    "ridge_f = Ridge(alpha = opt_a)\n",
    "ridge_f.fit(train_data_x, train_data_y)\n",
    "# ridge_f is the Ridge model (linear feature), to be tested with test data."
   ]
  },
  {
   "cell_type": "markdown",
   "metadata": {},
   "source": [
    "2) Polynomial featuers\n"
   ]
  },
  {
   "cell_type": "code",
   "execution_count": 77,
   "metadata": {},
   "outputs": [
    {
     "data": {
      "image/png": "[encoded data removed]",
      "text/plain": [
       "<matplotlib.figure.Figure at 0x1a1c2bcc50>"
      ]
     },
     "metadata": {},
     "output_type": "display_data"
    },
    {
     "name": "stdout",
     "output_type": "stream",
     "text": [
      "14.38449888287663 0.46816918700194055\n"
     ]
    }
   ],
   "source": [
    "# Use the same training data set as Lasso (polynomial features)\n",
    "from sklearn.preprocessing import PolynomialFeatures\n",
    "poly = PolynomialFeatures(2)\n",
    "\n",
    "lr_train, lr_valid = train_test_split(train_data, test_size=0.15, random_state = 0)\n",
    "\n",
    "lr_train_x = lr_train.drop(['video_id', 'cvt_per_day'], axis = 1)\n",
    "lr_valid_x = lr_valid.drop(['video_id', 'cvt_per_day'], axis = 1)\n",
    "lr_train_y = lr_train['cvt_per_day']\n",
    "lr_valid_y = lr_valid['cvt_per_day']\n",
    "\n",
    "lr_train_xp = poly.fit_transform(lr_train_x)\n",
    "lr_valid_xp = poly.fit_transform(lr_valid_x)\n",
    "\n",
    "alphas = np.logspace (-2, 2, num=20)\n",
    "# alphas= [1]\n",
    "scores = np.empty_like(alphas)\n",
    "opt_a = float('-inf')\n",
    "max_score = float('-inf')\n",
    "for i, a in enumerate(alphas):\n",
    "    ridge = Ridge()\n",
    "    ridge.set_params(alpha = a)\n",
    "    ridge.fit(lr_train_xp, lr_train_y)\n",
    "    scores[i] = ridge.score(lr_valid_xp, lr_valid_y)\n",
    "    if scores[i] > max_score:\n",
    "        max_score = scores[i]\n",
    "        opt_a = a\n",
    "        ridge_save = ridge\n",
    "        \n",
    "plt.plot(alphas, scores, color='brown', linestyle='dashed', marker='o',markerfacecolor='g', markersize=6)\n",
    "plt.xlabel('alpha')\n",
    "plt.ylabel('score')\n",
    "plt.grid(True)\n",
    "plt.show()\n",
    "print (opt_a, max_score)\n"
   ]
  },
  {
   "cell_type": "code",
   "execution_count": 78,
   "metadata": {},
   "outputs": [
    {
     "data": {
      "text/plain": [
       "Ridge(alpha=14.38449888287663, copy_X=True, fit_intercept=True, max_iter=None,\n",
       "      normalize=False, random_state=None, solver='auto', tol=0.001)"
      ]
     },
     "execution_count": 78,
     "metadata": {},
     "output_type": "execute_result"
    }
   ],
   "source": [
    "# add the 15% validate data, use the optimal alpha, re-train the model\n",
    "lr_train_xp = poly.fit_transform(train_data_x)\n",
    "\n",
    "ridge_fp = Ridge()\n",
    "ridge_fp.set_params(alpha = opt_a)\n",
    "ridge_fp.fit(lr_train_xp, train_data_y)\n",
    "\n",
    "# ridge_fp is the Ridge model (polynomial feature), to be tested with test data."
   ]
  },
  {
   "cell_type": "markdown",
   "metadata": {},
   "source": [
    "# Non-linear model\n",
    "Random forest with Gridsearch cross-validation is used. The 'mean_scores' is used to narrow down the paramenters of n_estimator (number of trees in the forest) and Max_depth (maximum depth of the tree)."
   ]
  },
  {
   "cell_type": "code",
   "execution_count": 90,
   "metadata": {},
   "outputs": [],
   "source": [
    "rf_train_x, rf_valid_x, rf_train_y, rf_valid_y = train_test_split(train_data_x, train_data_y, test_size = 0.15, random_state = 0)"
   ]
  },
  {
   "cell_type": "code",
   "execution_count": 91,
   "metadata": {},
   "outputs": [
    {
     "data": {
      "text/plain": [
       "GridSearchCV(cv=5, error_score='raise-deprecating',\n",
       "             estimator=RandomForestRegressor(bootstrap=True, criterion='mse',\n",
       "                                             max_depth=None,\n",
       "                                             max_features='sqrt',\n",
       "                                             max_leaf_nodes=None,\n",
       "                                             min_impurity_decrease=0.0,\n",
       "                                             min_impurity_split=None,\n",
       "                                             min_samples_leaf=1,\n",
       "                                             min_samples_split=2,\n",
       "                                             min_weight_fraction_leaf=0.0,\n",
       "                                             n_estimators='warn', n_jobs=None,\n",
       "                                             oob_score=False, random_state=2,\n",
       "                                             verbose=0, warm_start=False),\n",
       "             iid='warn', n_jobs=None,\n",
       "             param_grid={'max_depth': [12, 13, 14, 15, 16, 17],\n",
       "                         'n_estimators': [54, 55, 56, 57, 58, 59, 60, 62]},\n",
       "             pre_dispatch='2*n_jobs', refit=True, return_train_score=False,\n",
       "             scoring=None, verbose=0)"
      ]
     },
     "execution_count": 91,
     "metadata": {},
     "output_type": "execute_result"
    }
   ],
   "source": [
    "from sklearn.ensemble import RandomForestRegressor\n",
    "#from sklearn.cross_validation import cross_val_score\n",
    "from sklearn.model_selection import cross_validate\n",
    "from sklearn.model_selection import GridSearchCV\n",
    "\n",
    "grid_param = {\n",
    "                 'n_estimators': [54, 55, 56, 57, 58, 59, 60, 62],\n",
    "                 'max_depth': [12, 13, 14, 15, 16, 17]\n",
    "             }\n",
    "rf = RandomForestRegressor(random_state = 2, max_features = \"sqrt\")\n",
    "rf.grid = GridSearchCV(rf, grid_param, cv = 5)\n",
    "rf.grid.fit(rf_train_x, rf_train_y)"
   ]
  },
  {
   "cell_type": "code",
   "execution_count": 92,
   "metadata": {},
   "outputs": [
    {
     "data": {
      "text/plain": [
       "{'max_depth': 14, 'n_estimators': 55}"
      ]
     },
     "execution_count": 92,
     "metadata": {},
     "output_type": "execute_result"
    }
   ],
   "source": [
    "rf.grid.best_params_"
   ]
  },
  {
   "cell_type": "code",
   "execution_count": 93,
   "metadata": {},
   "outputs": [
    {
     "data": {
      "text/plain": [
       "{'mean_fit_time': array([0.15693359, 0.1508472 , 0.15464249, 0.1565289 , 0.16641226,\n",
       "        0.16341467, 0.16402092, 0.17047014, 0.15841084, 0.16108088,\n",
       "        0.17343707, 0.17338099, 0.17338314, 0.17682672, 0.18164105,\n",
       "        0.1924448 , 0.17533984, 0.17413888, 0.17472887, 0.17775478,\n",
       "        0.18023534, 0.1911622 , 0.18844581, 0.1930572 , 0.17714562,\n",
       "        0.18352985, 0.18858914, 0.19008679, 0.19052634, 0.19552107,\n",
       "        0.19808164, 0.20572491, 0.19048376, 0.19038262, 0.19406576,\n",
       "        0.21333165, 0.202531  , 0.20838861, 0.20855217, 0.21545935,\n",
       "        0.19805746, 0.2172709 , 0.20741172, 0.20724192, 0.2174376 ,\n",
       "        0.21414924, 0.21786346, 0.22466159]),\n",
       " 'mean_score_time': array([0.00919833, 0.00904918, 0.00924654, 0.00960155, 0.01093078,\n",
       "        0.00971317, 0.0097682 , 0.01022139, 0.0093049 , 0.00980058,\n",
       "        0.01011138, 0.01018419, 0.01014991, 0.01072507, 0.01058583,\n",
       "        0.01088257, 0.01003795, 0.00999537, 0.0100153 , 0.0101368 ,\n",
       "        0.01029725, 0.01115465, 0.01099744, 0.01081443, 0.01024399,\n",
       "        0.01036201, 0.01068463, 0.01047225, 0.01055646, 0.01083431,\n",
       "        0.01117697, 0.01134906, 0.01065617, 0.01060848, 0.01074252,\n",
       "        0.01203194, 0.01093302, 0.01119914, 0.01144147, 0.01169643,\n",
       "        0.01058497, 0.01183233, 0.01133862, 0.01117258, 0.01135664,\n",
       "        0.01166821, 0.01161551, 0.01188626]),\n",
       " 'mean_test_score': array([0.50354354, 0.50648825, 0.50748105, 0.50530691, 0.50613395,\n",
       "        0.50619143, 0.50748772, 0.5062556 , 0.48517784, 0.48860964,\n",
       "        0.49046229, 0.48902967, 0.49157366, 0.49063146, 0.49245031,\n",
       "        0.492094  , 0.52479391, 0.52690504, 0.52562018, 0.52330835,\n",
       "        0.52647408, 0.52566523, 0.52489772, 0.52296564, 0.50235369,\n",
       "        0.50438515, 0.50536706, 0.50556561, 0.50750608, 0.50591027,\n",
       "        0.50765712, 0.50540307, 0.52017453, 0.52254815, 0.52401442,\n",
       "        0.51891516, 0.51928468, 0.51821977, 0.51927155, 0.5168088 ,\n",
       "        0.51846238, 0.52169729, 0.5218589 , 0.52116122, 0.52268316,\n",
       "        0.5201709 , 0.52319237, 0.52239602]),\n",
       " 'param_max_depth': masked_array(data=[12, 12, 12, 12, 12, 12, 12, 12, 13, 13, 13, 13, 13, 13,\n",
       "                    13, 13, 14, 14, 14, 14, 14, 14, 14, 14, 15, 15, 15, 15,\n",
       "                    15, 15, 15, 15, 16, 16, 16, 16, 16, 16, 16, 16, 17, 17,\n",
       "                    17, 17, 17, 17, 17, 17],\n",
       "              mask=[False, False, False, False, False, False, False, False,\n",
       "                    False, False, False, False, False, False, False, False,\n",
       "                    False, False, False, False, False, False, False, False,\n",
       "                    False, False, False, False, False, False, False, False,\n",
       "                    False, False, False, False, False, False, False, False,\n",
       "                    False, False, False, False, False, False, False, False],\n",
       "        fill_value='?',\n",
       "             dtype=object),\n",
       " 'param_n_estimators': masked_array(data=[54, 55, 56, 57, 58, 59, 60, 62, 54, 55, 56, 57, 58, 59,\n",
       "                    60, 62, 54, 55, 56, 57, 58, 59, 60, 62, 54, 55, 56, 57,\n",
       "                    58, 59, 60, 62, 54, 55, 56, 57, 58, 59, 60, 62, 54, 55,\n",
       "                    56, 57, 58, 59, 60, 62],\n",
       "              mask=[False, False, False, False, False, False, False, False,\n",
       "                    False, False, False, False, False, False, False, False,\n",
       "                    False, False, False, False, False, False, False, False,\n",
       "                    False, False, False, False, False, False, False, False,\n",
       "                    False, False, False, False, False, False, False, False,\n",
       "                    False, False, False, False, False, False, False, False],\n",
       "        fill_value='?',\n",
       "             dtype=object),\n",
       " 'params': [{'max_depth': 12, 'n_estimators': 54},\n",
       "  {'max_depth': 12, 'n_estimators': 55},\n",
       "  {'max_depth': 12, 'n_estimators': 56},\n",
       "  {'max_depth': 12, 'n_estimators': 57},\n",
       "  {'max_depth': 12, 'n_estimators': 58},\n",
       "  {'max_depth': 12, 'n_estimators': 59},\n",
       "  {'max_depth': 12, 'n_estimators': 60},\n",
       "  {'max_depth': 12, 'n_estimators': 62},\n",
       "  {'max_depth': 13, 'n_estimators': 54},\n",
       "  {'max_depth': 13, 'n_estimators': 55},\n",
       "  {'max_depth': 13, 'n_estimators': 56},\n",
       "  {'max_depth': 13, 'n_estimators': 57},\n",
       "  {'max_depth': 13, 'n_estimators': 58},\n",
       "  {'max_depth': 13, 'n_estimators': 59},\n",
       "  {'max_depth': 13, 'n_estimators': 60},\n",
       "  {'max_depth': 13, 'n_estimators': 62},\n",
       "  {'max_depth': 14, 'n_estimators': 54},\n",
       "  {'max_depth': 14, 'n_estimators': 55},\n",
       "  {'max_depth': 14, 'n_estimators': 56},\n",
       "  {'max_depth': 14, 'n_estimators': 57},\n",
       "  {'max_depth': 14, 'n_estimators': 58},\n",
       "  {'max_depth': 14, 'n_estimators': 59},\n",
       "  {'max_depth': 14, 'n_estimators': 60},\n",
       "  {'max_depth': 14, 'n_estimators': 62},\n",
       "  {'max_depth': 15, 'n_estimators': 54},\n",
       "  {'max_depth': 15, 'n_estimators': 55},\n",
       "  {'max_depth': 15, 'n_estimators': 56},\n",
       "  {'max_depth': 15, 'n_estimators': 57},\n",
       "  {'max_depth': 15, 'n_estimators': 58},\n",
       "  {'max_depth': 15, 'n_estimators': 59},\n",
       "  {'max_depth': 15, 'n_estimators': 60},\n",
       "  {'max_depth': 15, 'n_estimators': 62},\n",
       "  {'max_depth': 16, 'n_estimators': 54},\n",
       "  {'max_depth': 16, 'n_estimators': 55},\n",
       "  {'max_depth': 16, 'n_estimators': 56},\n",
       "  {'max_depth': 16, 'n_estimators': 57},\n",
       "  {'max_depth': 16, 'n_estimators': 58},\n",
       "  {'max_depth': 16, 'n_estimators': 59},\n",
       "  {'max_depth': 16, 'n_estimators': 60},\n",
       "  {'max_depth': 16, 'n_estimators': 62},\n",
       "  {'max_depth': 17, 'n_estimators': 54},\n",
       "  {'max_depth': 17, 'n_estimators': 55},\n",
       "  {'max_depth': 17, 'n_estimators': 56},\n",
       "  {'max_depth': 17, 'n_estimators': 57},\n",
       "  {'max_depth': 17, 'n_estimators': 58},\n",
       "  {'max_depth': 17, 'n_estimators': 59},\n",
       "  {'max_depth': 17, 'n_estimators': 60},\n",
       "  {'max_depth': 17, 'n_estimators': 62}],\n",
       " 'rank_test_score': array([39, 29, 28, 37, 32, 31, 27, 30, 48, 47, 45, 46, 43, 44, 41, 42,  6,\n",
       "         1,  4,  8,  2,  3,  5, 10, 40, 38, 36, 34, 26, 33, 25, 35, 17, 12,\n",
       "         7, 21, 19, 23, 20, 24, 22, 15, 14, 16, 11, 18,  9, 13],\n",
       "       dtype=int32),\n",
       " 'split0_test_score': array([0.41091019, 0.41460204, 0.41569636, 0.41124398, 0.41257747,\n",
       "        0.40991806, 0.40968596, 0.41272792, 0.41650166, 0.42059822,\n",
       "        0.42083041, 0.41588   , 0.41829912, 0.41989995, 0.41747902,\n",
       "        0.41869103, 0.4425239 , 0.44651612, 0.44719825, 0.4413099 ,\n",
       "        0.43630906, 0.43419966, 0.43466185, 0.43559708, 0.42610034,\n",
       "        0.43022438, 0.43090521, 0.42553083, 0.42196251, 0.41858602,\n",
       "        0.42264384, 0.42378706, 0.40672481, 0.41075966, 0.40951772,\n",
       "        0.40508268, 0.40261381, 0.40148506, 0.40052841, 0.40309601,\n",
       "        0.41737582, 0.42057979, 0.41980805, 0.41441908, 0.41241307,\n",
       "        0.41556293, 0.42288947, 0.42483265]),\n",
       " 'split1_test_score': array([0.47213596, 0.47711668, 0.47853794, 0.47625357, 0.47341285,\n",
       "        0.47272935, 0.47133764, 0.47105432, 0.38925271, 0.39569685,\n",
       "        0.39915325, 0.39927539, 0.40064402, 0.39831288, 0.40272653,\n",
       "        0.40948828, 0.42907518, 0.43378807, 0.43183974, 0.42847566,\n",
       "        0.43079863, 0.42937462, 0.43035056, 0.42853169, 0.45138712,\n",
       "        0.45408057, 0.45034214, 0.44638168, 0.45065481, 0.45320442,\n",
       "        0.44316499, 0.44375185, 0.45561251, 0.45922855, 0.46205322,\n",
       "        0.45292806, 0.45647113, 0.45667513, 0.45796629, 0.4556212 ,\n",
       "        0.39209401, 0.39944293, 0.39991268, 0.39889916, 0.40438883,\n",
       "        0.39485336, 0.3953633 , 0.39757842]),\n",
       " 'split2_test_score': array([0.69193217, 0.69520126, 0.69413024, 0.69583032, 0.70162354,\n",
       "        0.69832329, 0.70051276, 0.69958153, 0.68480005, 0.69114925,\n",
       "        0.68514958, 0.6915537 , 0.69434088, 0.69048043, 0.68882871,\n",
       "        0.68848884, 0.70075424, 0.70523424, 0.70679214, 0.70490718,\n",
       "        0.70874407, 0.70518691, 0.70439884, 0.70536552, 0.67143577,\n",
       "        0.67693881, 0.67818421, 0.68106063, 0.68579551, 0.6853866 ,\n",
       "        0.68828796, 0.68803907, 0.68133601, 0.68782708, 0.68681181,\n",
       "        0.68336433, 0.6870866 , 0.68777488, 0.68755439, 0.68854225,\n",
       "        0.72062324, 0.72548605, 0.72611326, 0.72992049, 0.73280887,\n",
       "        0.72910064, 0.72898968, 0.73255819]),\n",
       " 'split3_test_score': array([0.4750176 , 0.47985275, 0.47938924, 0.47466127, 0.47449464,\n",
       "        0.47808905, 0.47805222, 0.47720401, 0.48110622, 0.48697355,\n",
       "        0.49552844, 0.49525478, 0.4952215 , 0.4931718 , 0.49167384,\n",
       "        0.49236904, 0.4775298 , 0.48089038, 0.48080802, 0.48174086,\n",
       "        0.49264344, 0.49312172, 0.49282294, 0.49497746, 0.50177467,\n",
       "        0.50404394, 0.50761645, 0.50970844, 0.50867416, 0.50721021,\n",
       "        0.51086027, 0.5102531 , 0.50296285, 0.50857986, 0.50983629,\n",
       "        0.50862113, 0.50584971, 0.50403528, 0.50290224, 0.5010198 ,\n",
       "        0.52031923, 0.52585425, 0.524705  , 0.52284711, 0.52195567,\n",
       "        0.5179622 , 0.51561341, 0.51403464]),\n",
       " 'split4_test_score': array([0.46761628, 0.46555792, 0.46954343, 0.46843491, 0.4684478 ,\n",
       "        0.47179512, 0.47775318, 0.47060433, 0.45417115, 0.44856213,\n",
       "        0.45159442, 0.44311952, 0.44929957, 0.45123191, 0.46149149,\n",
       "        0.45136661, 0.57408973, 0.5680885 , 0.56144805, 0.56010031,\n",
       "        0.56388103, 0.56645672, 0.56226306, 0.55035547, 0.46100194,\n",
       "        0.45655924, 0.45971627, 0.46508701, 0.47038455, 0.46509945,\n",
       "        0.47327751, 0.46111974, 0.55426411, 0.5463617 , 0.55187544,\n",
       "        0.54460479, 0.5444213 , 0.54114281, 0.54742573, 0.53576992,\n",
       "        0.54194108, 0.53715554, 0.53878789, 0.53975343, 0.54187959,\n",
       "        0.54340978, 0.55314259, 0.54299624]),\n",
       " 'std_fit_time': array([0.00921463, 0.00097624, 0.00113185, 0.00129157, 0.00646367,\n",
       "        0.00133725, 0.0012735 , 0.0032187 , 0.00117036, 0.0015209 ,\n",
       "        0.01032664, 0.00397592, 0.0015848 , 0.00132026, 0.00187223,\n",
       "        0.00773312, 0.00560801, 0.00289349, 0.00134999, 0.00054542,\n",
       "        0.00090594, 0.00694852, 0.00063673, 0.00093589, 0.00080816,\n",
       "        0.00716871, 0.00336003, 0.00367516, 0.00129416, 0.00387652,\n",
       "        0.00135314, 0.00408108, 0.00246959, 0.00136952, 0.00158426,\n",
       "        0.01563408, 0.00123293, 0.00671791, 0.00191468, 0.00165129,\n",
       "        0.00509601, 0.01640585, 0.00423101, 0.00116883, 0.00834517,\n",
       "        0.00201958, 0.00204024, 0.0019358 ]),\n",
       " 'std_score_time': array([3.11986525e-04, 3.58310683e-05, 2.34024876e-04, 1.39321047e-04,\n",
       "        2.48834469e-03, 1.35779747e-04, 1.90316719e-04, 2.14116164e-04,\n",
       "        1.98944246e-04, 4.54036435e-04, 8.00091338e-04, 2.73233042e-04,\n",
       "        1.80302931e-04, 3.83037220e-04, 3.23123816e-04, 2.78964629e-04,\n",
       "        3.79675562e-04, 1.82650580e-04, 9.93842807e-05, 2.33711040e-04,\n",
       "        1.48857487e-04, 1.29500414e-03, 7.90178904e-04, 1.47785137e-04,\n",
       "        7.02461130e-04, 2.48726078e-04, 7.75084164e-04, 1.20770286e-04,\n",
       "        1.61292028e-04, 1.25731714e-04, 1.17693090e-04, 2.20098373e-04,\n",
       "        1.50533526e-04, 3.53288660e-04, 1.11667851e-04, 1.20657567e-03,\n",
       "        1.88018748e-04, 1.35551528e-04, 2.16244784e-04, 2.11709179e-04,\n",
       "        9.48221113e-05, 1.14955496e-03, 6.17307915e-04, 1.95415198e-04,\n",
       "        1.78148009e-04, 2.29393863e-04, 3.12656892e-04, 1.20524268e-04]),\n",
       " 'std_test_score': array([0.09714895, 0.09729357, 0.09628621, 0.09830328, 0.10048885,\n",
       "        0.09930239, 0.09991104, 0.0995042 , 0.10467027, 0.10575547,\n",
       "        0.10262302, 0.10639805, 0.10638271, 0.10493574, 0.10317738,\n",
       "        0.10244322, 0.10157025, 0.1007719 , 0.10108202, 0.10178949,\n",
       "        0.10303422, 0.10258546, 0.10174203, 0.10137596, 0.08801565,\n",
       "        0.0895713 , 0.09005583, 0.09207337, 0.09353357, 0.09413679,\n",
       "        0.09511454, 0.09573844, 0.09433685, 0.09445985, 0.09429362,\n",
       "        0.0950262 , 0.0964952 , 0.09687091, 0.0972288 , 0.09675264,\n",
       "        0.11632244, 0.11575873, 0.11605464, 0.11858862, 0.11892904,\n",
       "        0.11907089, 0.11811184, 0.11815698])}"
      ]
     },
     "execution_count": 93,
     "metadata": {},
     "output_type": "execute_result"
    }
   ],
   "source": [
    "rf.grid.cv_results_"
   ]
  },
  {
   "cell_type": "code",
   "execution_count": 94,
   "metadata": {},
   "outputs": [
    {
     "data": {
      "image/png": "[encoded data removed]",
      "text/plain": [
       "<matplotlib.figure.Figure at 0x1a1c220c88>"
      ]
     },
     "metadata": {},
     "output_type": "display_data"
    }
   ],
   "source": [
    "scores = rf.grid.cv_results_[\"mean_test_score\"]\n",
    "n_est = [54, 55, 56, 57, 58, 59, 60, 62]\n",
    "m_depth = [12, 13, 14, 15, 16, 17]\n",
    "scores = np.array(scores).reshape(len(m_depth), len(n_est))\n",
    "plt.figure()\n",
    "plt.subplot(111)\n",
    "for i, a in enumerate(m_depth):\n",
    "    plt.plot(n_est, scores[i], marker = \"o\", label = \"max depth\" + str(a))\n",
    "plt.legend(loc = \"center right\", bbox_to_anchor = (1.35, 0.5))\n",
    "plt.xlabel('num of trees')\n",
    "plt.ylabel('Mean score')\n",
    "plt.grid(True)\n",
    "plt.show()"
   ]
  },
  {
   "cell_type": "code",
   "execution_count": 97,
   "metadata": {},
   "outputs": [
    {
     "data": {
      "text/plain": [
       "RandomForestRegressor(bootstrap=True, criterion='mse', max_depth=14,\n",
       "                      max_features='sqrt', max_leaf_nodes=None,\n",
       "                      min_impurity_decrease=0.0, min_impurity_split=None,\n",
       "                      min_samples_leaf=1, min_samples_split=2,\n",
       "                      min_weight_fraction_leaf=0.0, n_estimators=55,\n",
       "                      n_jobs=None, oob_score=False, random_state=2, verbose=0,\n",
       "                      warm_start=False)"
      ]
     },
     "execution_count": 97,
     "metadata": {},
     "output_type": "execute_result"
    }
   ],
   "source": [
    "rf = RandomForestRegressor(random_state=2, max_features = 'sqrt', max_depth= 14, n_estimators=55)\n",
    "rf.fit(train_data_x, train_data_y)"
   ]
  },
  {
   "cell_type": "markdown",
   "metadata": {},
   "source": [
    "# Model Evaluation\n",
    "Test data is the reserved 15% of the whole dataset, and has never been seen by the above models."
   ]
  },
  {
   "cell_type": "markdown",
   "metadata": {},
   "source": [
    " Lasso test with linear features (lasso_f)"
   ]
  },
  {
   "cell_type": "code",
   "execution_count": 98,
   "metadata": {},
   "outputs": [],
   "source": [
    "from sklearn.metrics import mean_squared_error\n",
    "from math import sqrt"
   ]
  },
  {
   "cell_type": "code",
   "execution_count": 99,
   "metadata": {},
   "outputs": [
    {
     "name": "stdout",
     "output_type": "stream",
     "text": [
      "lasso_f score:  0.09954927178753703\n",
      "Mean square error of lasso_f:  238953191.99910036\n",
      "Root mean squared error of lasso_f: 15458.110880670392\n"
     ]
    }
   ],
   "source": [
    "lasso_f_score = lasso_f.score(test_data_x, test_data_y)\n",
    "pred_y = lasso_f.predict(test_data_x)\n",
    "MSE_lasso_f = mean_squared_error(test_data_y, pred_y)\n",
    "RMSE_lasso_f = sqrt(mean_squared_error(test_data_y, pred_y))\n",
    "print ('lasso_f score: ', lasso_f_score)\n",
    "print ('Mean square error of lasso_f: ', MSE_lasso_f)\n",
    "print ('Root mean squared error of lasso_f:', RMSE_lasso_f)"
   ]
  },
  {
   "cell_type": "code",
   "execution_count": 100,
   "metadata": {},
   "outputs": [
    {
     "name": "stdout",
     "output_type": "stream",
     "text": [
      "lasso_fp score:  -0.08248456394473869\n",
      "Mean square error of lasso_fp:  287259628.6948835\n",
      "Root mean squared error of lasso_fp: 16948.735312550125\n"
     ]
    }
   ],
   "source": [
    "test_data_xp = poly.fit_transform(test_data_x)\n",
    "lasso_fp_score = lasso_fp.score(test_data_xp, test_data_y)\n",
    "pred_y = lasso_fp.predict(test_data_xp)\n",
    "MSE_lasso_fp = mean_squared_error(test_data_y, pred_y)\n",
    "RMSE_lasso_fp = sqrt(mean_squared_error(test_data_y, pred_y))\n",
    "print ('lasso_fp score: ', lasso_fp_score)\n",
    "print ('Mean square error of lasso_fp: ', MSE_lasso_fp)\n",
    "print ('Root mean squared error of lasso_fp:', RMSE_lasso_fp)"
   ]
  },
  {
   "cell_type": "code",
   "execution_count": 101,
   "metadata": {},
   "outputs": [
    {
     "name": "stdout",
     "output_type": "stream",
     "text": [
      "ridge_f score:  0.11371374943726777\n",
      "Mean square error of ridge_f:  235194355.4060953\n",
      "Root mean squared error of ridge_f: 15336.047580980417\n"
     ]
    }
   ],
   "source": [
    "ridge_f_score = ridge_f.score(test_data_x, test_data_y)\n",
    "pred_y = ridge_f.predict(test_data_x)\n",
    "MSE_ridge_f = mean_squared_error(test_data_y, pred_y)\n",
    "RMSE_ridge_f = sqrt(mean_squared_error(test_data_y, pred_y))\n",
    "print ('ridge_f score: ', ridge_f_score)\n",
    "print ('Mean square error of ridge_f: ', MSE_ridge_f)\n",
    "print ('Root mean squared error of ridge_f:', RMSE_ridge_f)"
   ]
  },
  {
   "cell_type": "code",
   "execution_count": 102,
   "metadata": {},
   "outputs": [
    {
     "name": "stdout",
     "output_type": "stream",
     "text": [
      "lasso_fp score:  0.3803378913673554\n",
      "Mean square error of lasso_fp:  164440134.45644775\n",
      "Root mean squared error of lasso_fp: 12823.421324141531\n"
     ]
    }
   ],
   "source": [
    "test_data_xp = poly.fit_transform(test_data_x)\n",
    "ridge_fp_score = ridge_fp.score(test_data_xp, test_data_y)\n",
    "pred_y = ridge_fp.predict(test_data_xp)\n",
    "MSE_ridge_fp = mean_squared_error(test_data_y, pred_y)\n",
    "RMSE_ridge_fp = sqrt(mean_squared_error(test_data_y, pred_y))\n",
    "print ('lasso_fp score: ', ridge_fp_score)\n",
    "print ('Mean square error of lasso_fp: ', MSE_ridge_fp)\n",
    "print ('Root mean squared error of lasso_fp:', RMSE_ridge_fp)"
   ]
  },
  {
   "cell_type": "code",
   "execution_count": 103,
   "metadata": {},
   "outputs": [
    {
     "name": "stdout",
     "output_type": "stream",
     "text": [
      "rf score:  0.5165772811589044\n",
      "Mean square error of rf:  128286199.49175872\n",
      "Root mean squared error of rf: 11326.349786747658\n"
     ]
    }
   ],
   "source": [
    "rf_score = rf.score(test_data_x, test_data_y)\n",
    "pred_y = rf.predict(test_data_x)\n",
    "MSE_rf = mean_squared_error(test_data_y, pred_y)\n",
    "RMSE_rf = sqrt(mean_squared_error(test_data_y, pred_y))\n",
    "\n",
    "# The mean squared error and root mean square error\n",
    "print ('rf score: ', rf_score)\n",
    "print ('Mean square error of rf: ', MSE_rf)\n",
    "print ('Root mean squared error of rf:', RMSE_rf)"
   ]
  },
  {
   "cell_type": "code",
   "execution_count": 696,
   "metadata": {},
   "outputs": [
    {
     "data": {
      "image/png": "[encoded data removed]",
      "text/plain": [
       "<matplotlib.figure.Figure at 0x1a29ad4dd8>"
      ]
     },
     "metadata": {},
     "output_type": "display_data"
    },
    {
     "data": {
      "image/png": "[encoded data removed]",
      "text/plain": [
       "<matplotlib.figure.Figure at 0x1a265ff240>"
      ]
     },
     "metadata": {},
     "output_type": "display_data"
    },
    {
     "data": {
      "image/png": "[encoded data removed]",
      "text/plain": [
       "<matplotlib.figure.Figure at 0x1a26001710>"
      ]
     },
     "metadata": {},
     "output_type": "display_data"
    }
   ],
   "source": [
    "lst_score = [lasso_f_score, lasso_fp_score, ridge_f_score, ridge_fp_score, rf_score]\n",
    "MSE_lst =  [MSE_lasso_f, MSE_lasso_fp, MSE_ridge_f, MSE_ridge_fp, MSE_rf]\n",
    "RMSE_lst =  [RMSE_lasso_f, RMSE_lasso_fp, RMSE_ridge_f, RMSE_ridge_fp, RMSE_rf]\n",
    "model_lst = ['Lasso_linear','Lasso poly', 'Ridge linear', 'Ridge poly', 'Random forest']\n",
    "\n",
    "plt.figure(1)\n",
    "plt.plot(model_lst, lst_score, \"ro\")\n",
    "plt.grid(True)\n",
    "plt.xlabel(\"model\", fontsize = 14)\n",
    "plt.ylabel(\"score\", fontsize = 14)\n",
    "plt.show()\n",
    "\n",
    "plt.figure(2)\n",
    "plt.plot(model_lst, MSE_lst, \"g^\")\n",
    "plt.grid(True)\n",
    "plt.xlabel(\"model\", fontsize = 14)\n",
    "plt.ylabel(\"mean square error\", fontsize = 14)\n",
    "plt.show()\n",
    "\n",
    "plt.figure(3)\n",
    "plt.plot(model_lst, MSE_lst, \"bs\")\n",
    "plt.grid(True)\n",
    "plt.xlabel(\"model\", fontsize = 14)\n",
    "plt.ylabel(\"root mean square error\", fontsize = 14)\n",
    "plt.show()"
   ]
  },
  {
   "cell_type": "markdown",
   "metadata": {},
   "source": [
    "# Feature importance\n",
    "Random forest(RF) shows the best prediction accuracy. Therefore, the feature importance will be extracted from the RF model."
   ]
  },
  {
   "cell_type": "code",
   "execution_count": 104,
   "metadata": {},
   "outputs": [],
   "source": [
    "importance = rf.feature_importances_"
   ]
  },
  {
   "cell_type": "code",
   "execution_count": 105,
   "metadata": {},
   "outputs": [
    {
     "data": {
      "text/plain": [
       "array([1.51490037e-01, 1.12314143e-01, 1.33391332e-01, 7.05954914e-02,\n",
       "       5.12963171e-02, 2.79199294e-02, 3.98155633e-02, 6.00266679e-02,\n",
       "       5.17499473e-02, 3.62082547e-02, 1.97686622e-02, 3.05173748e-02,\n",
       "       3.32188636e-03, 2.74275307e-04, 5.27576947e-04, 5.96008239e-03,\n",
       "       2.50105747e-03, 5.24340645e-03, 1.39465901e-02, 4.57553344e-05,\n",
       "       5.23285775e-03, 3.93795970e-03, 7.11562449e-03, 9.50021051e-03,\n",
       "       4.57518402e-03, 2.10759759e-03, 2.15016041e-03, 6.64071860e-03,\n",
       "       1.34256504e-02, 4.37903200e-03, 6.78164716e-03, 1.85935762e-03,\n",
       "       5.13772598e-05, 3.23628744e-03, 4.85407878e-04, 4.54870865e-03,\n",
       "       2.39017008e-03, 6.02881743e-04, 6.95789278e-03, 3.20104030e-03,\n",
       "       2.48125035e-03, 1.48270609e-03, 9.12754313e-03, 3.11108386e-03,\n",
       "       4.43634865e-03, 2.45580872e-05, 2.19621968e-03, 3.16093562e-03,\n",
       "       5.51056736e-03, 1.05421014e-02, 6.12743554e-03, 4.96058464e-03,\n",
       "       1.57198365e-02, 1.90514449e-02, 3.23126586e-03, 2.74200195e-03])"
      ]
     },
     "execution_count": 105,
     "metadata": {},
     "output_type": "execute_result"
    }
   ],
   "source": [
    "importance"
   ]
  },
  {
   "cell_type": "code",
   "execution_count": 700,
   "metadata": {},
   "outputs": [
    {
     "data": {
      "text/plain": [
       "array([ 0,  2,  1,  3,  7,  8,  4,  6,  9, 11,  5, 10, 53, 52, 18, 28, 49,\n",
       "       23, 42, 22, 38, 30, 27, 50, 15, 48, 17, 20, 51, 24, 35, 44, 29, 21,\n",
       "       12, 33, 54, 39, 47, 43, 55, 16, 40, 36, 46, 26, 25, 31, 41, 37, 14,\n",
       "       34, 13, 32, 19, 45])"
      ]
     },
     "execution_count": 700,
     "metadata": {},
     "output_type": "execute_result"
    }
   ],
   "source": [
    "indices = np.argsort(importance)[::-1]\n",
    "indices"
   ]
  },
  {
   "cell_type": "code",
   "execution_count": 699,
   "metadata": {},
   "outputs": [],
   "source": [
    "#std = np.std([tree.feature_importances_ for tree in rf.estimators_], axis=0)\n",
    "#std"
   ]
  },
  {
   "cell_type": "code",
   "execution_count": 701,
   "metadata": {},
   "outputs": [
    {
     "data": {
      "text/plain": [
       "array(['weighted_categorical_position', 'weighted_horizontal_poition',\n",
       "       'imdb_votes', 'budget', 'boxoffice', 'imdb_rating',\n",
       "       'duration_in_mins', 'metacritic_score', 'star_category',\n",
       "       'lionsgate', 'mgm', 'other', 'paramount', 'G', 'NC-17', 'NotRated',\n",
       "       'PG', 'PG-13', 'R', 'BAFTA', 'Golden Globe', 'Oscar', 'no award',\n",
       "       'other award', 'Action', 'Adventure', 'Animation', 'Comedy',\n",
       "       'Crime', 'Documentary', 'Drama', 'Fantasy',\n",
       "       'Foreign/International', 'Horror', 'Independent', 'Kids & Family',\n",
       "       'Music', 'Musicals', 'Mystery', 'Romance', 'Sci-Fi', 'Sport',\n",
       "       'Thriller', 'War', 'Western', 'Misc_gen', '1916-1974', '1974-1991',\n",
       "       '1991-2001', '2001-2006', '2006-2008', '2008-2010', '2010-2012',\n",
       "       '2012-2013', '2013-2014', '2014-2017'], dtype=object)"
      ]
     },
     "execution_count": 701,
     "metadata": {},
     "output_type": "execute_result"
    }
   ],
   "source": [
    "feature_name = train_data_x.columns.get_values()\n",
    "feature_name"
   ]
  },
  {
   "cell_type": "code",
   "execution_count": 702,
   "metadata": {},
   "outputs": [
    {
     "name": "stdout",
     "output_type": "stream",
     "text": [
      "1. feature weighted_categorical_position (0.151490)\n",
      "2. feature imdb_votes (0.133391)\n",
      "3. feature weighted_horizontal_poition (0.112314)\n",
      "4. feature budget (0.070595)\n",
      "5. feature metacritic_score (0.060027)\n",
      "6. feature star_category (0.051750)\n",
      "7. feature boxoffice (0.051296)\n",
      "8. feature duration_in_mins (0.039816)\n",
      "9. feature lionsgate (0.036208)\n",
      "10. feature other (0.030517)\n",
      "11. feature imdb_rating (0.027920)\n",
      "12. feature mgm (0.019769)\n",
      "13. feature 2012-2013 (0.019051)\n",
      "14. feature 2010-2012 (0.015720)\n",
      "15. feature R (0.013947)\n",
      "16. feature Crime (0.013426)\n",
      "17. feature 2001-2006 (0.010542)\n",
      "18. feature other award (0.009500)\n",
      "19. feature Thriller (0.009128)\n",
      "20. feature no award (0.007116)\n",
      "21. feature Mystery (0.006958)\n",
      "22. feature Drama (0.006782)\n",
      "23. feature Comedy (0.006641)\n",
      "24. feature 2006-2008 (0.006127)\n",
      "25. feature NotRated (0.005960)\n",
      "26. feature 1991-2001 (0.005511)\n",
      "27. feature PG-13 (0.005243)\n",
      "28. feature Golden Globe (0.005233)\n",
      "29. feature 2008-2010 (0.004961)\n",
      "30. feature Action (0.004575)\n",
      "31. feature Kids & Family (0.004549)\n",
      "32. feature Western (0.004436)\n",
      "33. feature Documentary (0.004379)\n",
      "34. feature Oscar (0.003938)\n",
      "35. feature paramount (0.003322)\n",
      "36. feature Horror (0.003236)\n",
      "37. feature 2013-2014 (0.003231)\n",
      "38. feature Romance (0.003201)\n",
      "39. feature 1974-1991 (0.003161)\n",
      "40. feature War (0.003111)\n",
      "41. feature 2014-2017 (0.002742)\n",
      "42. feature PG (0.002501)\n",
      "43. feature Sci-Fi (0.002481)\n",
      "44. feature Music (0.002390)\n",
      "45. feature 1916-1974 (0.002196)\n",
      "46. feature Animation (0.002150)\n",
      "47. feature Adventure (0.002108)\n",
      "48. feature Fantasy (0.001859)\n",
      "49. feature Sport (0.001483)\n",
      "50. feature Musicals (0.000603)\n",
      "51. feature NC-17 (0.000528)\n",
      "52. feature Independent (0.000485)\n",
      "53. feature G (0.000274)\n",
      "54. feature Foreign/International (0.000051)\n",
      "55. feature BAFTA (0.000046)\n",
      "56. feature Misc_gen (0.000025)\n"
     ]
    }
   ],
   "source": [
    "for f in range(train_data_x.shape[1]):\n",
    "    print (\"%d. feature %s (%f)\" %(f + 1, feature_name[indices[f]], importance[indices[f]]))"
   ]
  },
  {
   "cell_type": "code",
   "execution_count": 703,
   "metadata": {},
   "outputs": [
    {
     "data": {
      "image/png": "[encoded data removed]",
      "text/plain": [
       "<matplotlib.figure.Figure at 0x1a265e3eb8>"
      ]
     },
     "metadata": {},
     "output_type": "display_data"
    }
   ],
   "source": [
    "plt.figure()\n",
    "plt.bar(feature_name[indices[0:9]], importance[indices[0:9]],\n",
    "       color=\"r\", align=\"center\")\n",
    "plt.title(\"Feature importances\")\n",
    "plt.xticks(rotation = 90, fontsize = 12)\n",
    "plt.show()"
   ]
  },
  {
   "cell_type": "code",
   "execution_count": null,
   "metadata": {},
   "outputs": [],
   "source": []
  }
 ],
 "metadata": {
  "kernelspec": {
   "display_name": "Python 3",
   "language": "python",
   "name": "python3"
  },
  "language_info": {
   "codemirror_mode": {
    "name": "ipython",
    "version": 3
   },
   "file_extension": ".py",
   "mimetype": "text/x-python",
   "name": "python",
   "nbconvert_exporter": "python",
   "pygments_lexer": "ipython3",
   "version": "3.6.4"
  }
 },
 "nbformat": 4,
 "nbformat_minor": 2
}
